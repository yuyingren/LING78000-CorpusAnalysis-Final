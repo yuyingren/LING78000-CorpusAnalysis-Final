{
 "cells": [
  {
   "cell_type": "code",
   "execution_count": 1,
   "id": "disturbed-costa",
   "metadata": {},
   "outputs": [],
   "source": [
    "#### Read the aligned Edict and JMdict \n",
    "\n",
    "import re\n",
    "\n",
    "kt_cmu1=[]\n",
    "\n",
    "with open(\"Edict/Edict_aligned.csv\", \"r\", encoding='utf-8') as ed:\n",
    "    for i in ed:\n",
    "        ll=i.rstrip().split('\\t')\n",
    "        kt_cmu1.append(ll)\n"
   ]
  },
  {
   "cell_type": "code",
   "execution_count": 2,
   "id": "featured-playing",
   "metadata": {},
   "outputs": [],
   "source": [
    "kt_cmu2=[]\n",
    "\n",
    "with open(\"JMdata/JMdict_aligned.csv\", \"r\", encoding='utf-8') as jd:\n",
    "    for i in jd:\n",
    "        ll=i.rstrip().split('\\t')\n",
    "        kt_cmu2.append(ll)\n"
   ]
  },
  {
   "cell_type": "code",
   "execution_count": 3,
   "id": "relevant-discrimination",
   "metadata": {},
   "outputs": [],
   "source": [
    "##### Read the unaligned Edict and JMdict\n",
    "\n",
    "en_cmu2=[]\n",
    "with open(\"JMdata/JMdict_annot.tsv\", \"r\") as jf:\n",
    "    for i in jf:\n",
    "#         ii=[]\n",
    "        j=i.rstrip().split(\"\\t\")\n",
    "        en_cmu2.append(j)\n",
    "        "
   ]
  },
  {
   "cell_type": "code",
   "execution_count": 4,
   "id": "eleven-contrary",
   "metadata": {},
   "outputs": [],
   "source": [
    "en_cmu1=[]\n",
    "with open(\"Edict/Edict_annot.tsv\", \"r\") as ef:\n",
    "    for i in ef:\n",
    "#         ii=[]\n",
    "        j=i.rstrip().split(\"\\t\")\n",
    "        en_cmu1.append(j)\n",
    "        "
   ]
  },
  {
   "cell_type": "code",
   "execution_count": 12,
   "id": "willing-breath",
   "metadata": {},
   "outputs": [
    {
     "name": "stdout",
     "output_type": "stream",
     "text": [
      "11528\n",
      "15174\n",
      "11528\n",
      "15174\n",
      "[['アブストラクトアート', 'abstract|art', 'AE0_B_S_T_R_AE1_K_T|AA1_R_T'], ['アブストラクトゲーム', 'abstract|game', 'AE0_B_S_T_R_AE1_K_T|G_EY1_M'], ['アカデミックディスカウント', 'academic|discount', 'EH1_M_IH0_K|D_IH0_S_K_AW1_N_T'], ['アカデミックガウン', 'academic|gown', 'AE2_K_AH0_D_EH1_M_IH0_K|G_AW1_N'], ['アカデミックパッケージ', 'academic|package', 'AE2_K_AH0_D_EH1_M_IH0_K|P_AE1_K_AH0_JH'], ['アクセラレーティッドコンピューティング', 'accelerated|computing', 'AE0_K_S_EH1_L_ER0_EY2_T_IH0_D|K_AH0_M_P_Y_UW1_T_IH0_NG'], ['アクセラレーテッドコンピューティング', 'accelerated|computing', 'AE0_K_S_EH1_L_ER0_EY2_T_IH0_D|K_AH0_M_P_Y_UW1_T_IH0_NG'], ['アクセラレータカード', 'accelerator|card', 'AE0_K_S_EH1_L_ER0_EY2_T_ER0|K_AA1_R_D'], ['アクセスアーム', 'access|arm', 'AE1_K_S_EH2_S|AA1_R_M'], ['アクセスブロック', 'access|block', 'AE1_K_S_EH2_S|B_L_AA1_K']]\n",
      "[['アードバーク', 'aardvark', 'AA1_R_D_V_AA2_R_K'], ['アバカス', 'abacus', 'AE1_B_AH0_K_AH0_S'], ['アバクス', 'abacus', 'AE1_B_AH0_K_AH0_S'], ['アブダクション', 'abduction', 'AE0_B_D_AH1_K_SH_AH0_N'], ['アベンド', 'abend', 'AE1_B_EH0_N_D'], ['アーベント', 'abend', 'AE1_B_EH0_N_D'], ['アビリティー', 'ability', 'AH0_B_IH1_L_AH0_T_IY2'], ['アブノーマル', 'abnormal', 'AE0_B_N_AO1_R_M_AH0_L'], ['アブノーマルエンド', 'abnormal|end', 'AE0_B_N_AO1_R_M_AH0_L|EH1_N_D'], ['アボリジニ', 'aborigine', 'AE2_B_ER0_IH1_JH_AH0_N_IY0']]\n"
     ]
    }
   ],
   "source": [
    "print(len(kt_cmu1))#aligned Edict\n",
    "print(len(kt_cmu2))#aligned JMdict\n",
    "print(len(en_cmu1))#unaligned Edict\n",
    "print(len(en_cmu2))#unaligned JMdict\n",
    "# print(en_cmu1[:10])\n",
    "# print(en_cmu2[:10])"
   ]
  },
  {
   "cell_type": "code",
   "execution_count": 6,
   "id": "stuck-local",
   "metadata": {},
   "outputs": [],
   "source": [
    "#### organize the aligned data to the format that required by Transformer\n",
    "\n",
    "new_kc1=[]\n",
    "for i in kt_cmu1:\n",
    "    ii=[]\n",
    "    ii.append(i[0])\n",
    "    jj=re.sub(\"_\", \"\", i[1])\n",
    "    jjj=re.sub(r'[0-9]', \"\", jj)\n",
    "    ii.append(jjj)\n",
    "    new_kc1.append(ii)\n",
    "        \n",
    "    "
   ]
  },
  {
   "cell_type": "code",
   "execution_count": null,
   "id": "right-excess",
   "metadata": {},
   "outputs": [],
   "source": [
    "new_kc2=[]\n",
    "for i in kt_cmu2:\n",
    "    ii=[]\n",
    "    ii.append(i[0])\n",
    "    jj=re.sub(\"_\", \"\", i[1])\n",
    "    jjj=re.sub(r'[0-9]', \"\", jj)\n",
    "    ii.append(jjj)\n",
    "    new_kc2.append(ii)"
   ]
  },
  {
   "cell_type": "code",
   "execution_count": 7,
   "id": "fewer-completion",
   "metadata": {},
   "outputs": [
    {
     "name": "stdout",
     "output_type": "stream",
     "text": [
      "11528\n",
      "[['ア ブ ス ト ラ ク ト ア ー ト', 'AE B S T RAE K T AA R T'], ['ア ブ ス ト ラ ク ト ゲ ー ム', 'AE B S T RAE K T GE Y M'], ['ア カ デ ミッ ク ディ ス カ ウ ン ト', 'AE KAH DEH MIH K DIH S KA W N T'], ['ア カ デ ミッ ク ガ ウ ン', 'AE KAH DEH MIH K GA W N'], ['ア カ デ ミッ ク パッ ケ ー ジ', 'AE KAH DEH MIH K PAE KAH JH'], ['ア ク セ ラ レ ー ティッ ド コ ン ピュ ー ティ ン グ', 'AE K SEH LE R E Y TIH D KAH M PYU W TIH N G'], ['ア ク セ ラ レ ー テッ ド コ ン ピュ ー ティ ン グ', 'AE K SEH LE R E Y TIH D KAH M PYU W TIH N G'], ['ア ク セ ラ レ ー タ カ ー ド', 'AE K SEH LE R E Y TE R KAA R D'], ['ア ク セ ス ア ー ム', 'AE K SEH S AA R M'], ['ア ク セ ス ブ ロッ ク', 'AE K SEH S B LAA K'], ['ア ク セ ス チャ ー ジ', 'AE K SEH S CHAA R JH'], ['ア ク セ ス コ ー ド', 'AE K SEH S KO W D'], ['ア ク セ ス コ ン テ キ ス ト', 'AE K SEH S KAA N TEH K S T'], ['ア ク セ ス コ ン ト ロ ー ル', 'AE K SEH S KAH N T RO W L'], ['ア ク セ ス コ ン ト ロ ー ル リ ス ト', 'AE K SEH S KAH N T RO W L LIH S T'], ['ア ク セ ス カ ウ ン タ', 'AE K SEH S KA W N TE R'], ['ア ク セ ス カ ウ ン タ ー', 'AE K SEH S KA W N TE R'], ['ア ク セ ス キ ー', 'AE K SEH S KI Y'], ['ア ク セ ス レ ベ ル', 'AE K SEH S LEH VAH L'], ['ア ク セ ス ロ グ', 'AE K SEH S LAO G']]\n"
     ]
    }
   ],
   "source": [
    "print(len(new_kc1))\n",
    "# print(new_kc1[:20])\n",
    "print(len(new_kc2))\n",
    "# print(new_kc2[:20])"
   ]
  },
  {
   "cell_type": "code",
   "execution_count": 14,
   "id": "affiliated-bolivia",
   "metadata": {},
   "outputs": [],
   "source": [
    "#### organize the UNaligned data to the format that required by Transformer\n",
    "\n",
    "new_ew1=[]\n",
    "new_ec1=[]\n",
    "for i in en_cmu1:\n",
    "    j=re.sub(r\"\\|\", \"\", i[1])\n",
    "    jj=\" \".join(j)\n",
    "    new_ew1.append(jj)\n",
    "    k=re.sub(r\"\\|\", \"_\", i[2])\n",
    "    kk=re.sub(\"_\", \" \", k)\n",
    "    kkk=re.sub(r\"[0-9]\", \"\", kk)\n",
    "    new_ec1.append(kkk)"
   ]
  },
  {
   "cell_type": "code",
   "execution_count": 15,
   "id": "perceived-consumer",
   "metadata": {},
   "outputs": [
    {
     "name": "stdout",
     "output_type": "stream",
     "text": [
      "11528\n",
      "['a b s t r a c t a r t', 'a b s t r a c t g a m e', 'a c a d e m i c d i s c o u n t', 'a c a d e m i c g o w n', 'a c a d e m i c p a c k a g e', 'a c c e l e r a t e d c o m p u t i n g', 'a c c e l e r a t e d c o m p u t i n g', 'a c c e l e r a t o r c a r d', 'a c c e s s a r m', 'a c c e s s b l o c k', 'a c c e s s c h a r g e', 'a c c e s s c o d e', 'a c c e s s c o n t e x t', 'a c c e s s c o n t r o l', 'a c c e s s c o n t r o l l i s t', 'a c c e s s c o u n t e r', 'a c c e s s c o u n t e r', 'a c c e s s k e y', 'a c c e s s l e v e l', 'a c c e s s l o g']\n",
      "11528\n",
      "['AE B S T R AE K T AA R T', 'AE B S T R AE K T G EY M', 'EH M IH K D IH S K AW N T', 'AE K AH D EH M IH K G AW N', 'AE K AH D EH M IH K P AE K AH JH', 'AE K S EH L ER EY T IH D K AH M P Y UW T IH NG', 'AE K S EH L ER EY T IH D K AH M P Y UW T IH NG', 'AE K S EH L ER EY T ER K AA R D', 'AE K S EH S AA R M', 'AE K S EH S B L AA K', 'AE K S EH S CH AA R JH', 'AE K S EH S K OW D', 'AE K S EH S K AA N T EH K S T', 'AE K S EH S K AH N T R OW L', 'AE K S EH S K AH N T R OW L L IH S T', 'AE K S EH S K AW N T ER', 'AE K S EH S K AW N T ER', 'AE K S EH S K IY', 'AE K S EH S L EH V AH L', 'AE K S EH S L AO G']\n"
     ]
    }
   ],
   "source": [
    "print(len(new_ew1))\n",
    "# print(new_ew1[:20])\n",
    "print(len(new_ec1))\n",
    "# print(new_ec1[:20])"
   ]
  },
  {
   "cell_type": "code",
   "execution_count": 16,
   "id": "foreign-kazakhstan",
   "metadata": {},
   "outputs": [],
   "source": [
    "new_ew2=[]\n",
    "new_ec2=[]\n",
    "for i in en_cmu2:\n",
    "    j=re.sub(r\"\\|\", \"\", i[1])\n",
    "    jj=\" \".join(j)\n",
    "    new_ew2.append(jj)\n",
    "    k=re.sub(r\"\\|\", \"_\", i[2])\n",
    "    kk=re.sub(\"_\", \" \", k)\n",
    "    kkk=re.sub(r\"[0-9]\", \"\", kk)\n",
    "    new_ec2.append(kkk)"
   ]
  },
  {
   "cell_type": "code",
   "execution_count": 18,
   "id": "affiliated-highway",
   "metadata": {},
   "outputs": [
    {
     "name": "stdout",
     "output_type": "stream",
     "text": [
      "15174\n",
      "['a a r d v a r k', 'a b a c u s', 'a b a c u s', 'a b d u c t i o n', 'a b e n d', 'a b e n d', 'a b i l i t y', 'a b n o r m a l', 'a b n o r m a l e n d', 'a b o r i g i n e', 'a b o r i g i n e', 'a b o r i g i n e', 'a b o r t', 'a b o r t i o n', 'a b o u t', 'a b r a c a d a b r a', 'a b s e n t e e i s m', 'a b s o l u t e', 'a b s o l u t e', 'a b s o l u t i s m']\n",
      "15174\n",
      "['AA R D V AA R K', 'AE B AH K AH S', 'AE B AH K AH S', 'AE B D AH K SH AH N', 'AE B EH N D', 'AE B EH N D', 'AH B IH L AH T IY', 'AE B N AO R M AH L', 'AE B N AO R M AH L EH N D', 'AE B ER IH JH AH N IY', 'AE B ER IH JH AH N IY', 'AE B ER IH JH AH N IY', 'AH B AO R T', 'AH B AO R SH AH N', 'AH B AW T', 'AE B R AH K AH D AE B R AH', 'AE B S AH N T IY IH Z AH M', 'AE B S AH L UW T', 'AE B S AH L UW T', 'AE B S AH L UW T IH Z AH M']\n"
     ]
    }
   ],
   "source": [
    "print(len(new_ew2))\n",
    "# print(new_ew2[:20])\n",
    "print(len(new_ec2))\n",
    "# print(new_ec2[:20])"
   ]
  },
  {
   "cell_type": "code",
   "execution_count": 19,
   "id": "round-practice",
   "metadata": {},
   "outputs": [
    {
     "name": "stdout",
     "output_type": "stream",
     "text": [
      "26702\n",
      "26702\n"
     ]
    }
   ],
   "source": [
    "new_ew=new_ew1+new_ew2\n",
    "new_ec=new_ec1+new_ec2\n",
    "print(len(new_ew))\n",
    "print(len(new_ec))"
   ]
  },
  {
   "cell_type": "code",
   "execution_count": 20,
   "id": "express-directive",
   "metadata": {},
   "outputs": [
    {
     "name": "stdout",
     "output_type": "stream",
     "text": [
      "11528\n",
      "15174\n",
      "26702\n"
     ]
    }
   ],
   "source": [
    "print(len(new_kc1))\n",
    "print(len(new_kc2))\n",
    "new_kc=new_kc1+new_kc2\n",
    "print(len(new_kc))"
   ]
  },
  {
   "cell_type": "code",
   "execution_count": 26,
   "id": "restricted-linux",
   "metadata": {},
   "outputs": [
    {
     "name": "stdout",
     "output_type": "stream",
     "text": [
      "26702\n",
      "[(['ゾ ウ ア ラ ジ カ ル', 'ZU W LAA JHIH KAH L', 'z o o l o g i c a l'], 'z o o l o g i c a l'), (['ズ ー オ ロ ジ ー', 'ZO W AA LAH JHI Y', 'z o o l o g y'], 'z o o l o g y'), (['ゾゥ ア ラ ジィ', 'ZO W AA LAH JHI Y', 'z o o l o g y'], 'z o o l o g y'), (['ゾ ウ オ ロ ジ ー', 'ZO W AA LAH JHI Y', 'z o o l o g y'], 'z o o l o g y'), (['ズ ー ム', 'ZU W M', 'z o o m'], 'z o o m'), (['ズ ー ミ ン グ', 'ZU W MIH N G', 'z o o m i n g'], 'z o o m i n g'), (['ズッ キ ー ニ', 'ZU W KI Y NI Y', 'z u c c h i n i'], 'z u c c h i n i'), (['ツ ル ー', 'T RU W', 'T R U E'], 'T R U E'), (['トゥ ル ー', 'T RU W', 'T R U E'], 'T R U E'), (['ト ル ー', 'T RU W', 'T R U E'], 'T R U E')]\n"
     ]
    }
   ],
   "source": [
    "##### NOW, combine the word and pronunciation lists temporarly for the spliting the train, test, dev sets\n",
    "cmb=list(zip(new_kc, new_ew))\n",
    "\n",
    "    "
   ]
  },
  {
   "cell_type": "code",
   "execution_count": 30,
   "id": "flying-ready",
   "metadata": {},
   "outputs": [
    {
     "name": "stdout",
     "output_type": "stream",
     "text": [
      "26702\n",
      "[['ゾ ウ ア ラ ジ カ ル', 'ZU W LAA JHIH KAH L', 'z o o l o g i c a l'], ['ズ ー オ ロ ジ ー', 'ZO W AA LAH JHI Y', 'z o o l o g y'], ['ゾゥ ア ラ ジィ', 'ZO W AA LAH JHI Y', 'z o o l o g y'], ['ゾ ウ オ ロ ジ ー', 'ZO W AA LAH JHI Y', 'z o o l o g y'], ['ズ ー ム', 'ZU W M', 'z o o m'], ['ズ ー ミ ン グ', 'ZU W MIH N G', 'z o o m i n g'], ['ズッ キ ー ニ', 'ZU W KI Y NI Y', 'z u c c h i n i'], ['ツ ル ー', 'T RU W', 'T R U E'], ['トゥ ル ー', 'T RU W', 'T R U E'], ['ト ル ー', 'T RU W', 'T R U E']]\n"
     ]
    }
   ],
   "source": [
    "cmb1=[]\n",
    "for i in cmb:\n",
    "    cmb1.append(i[0])\n",
    "print(len(cmb1))\n",
    "# print(cmb1[-10:])\n"
   ]
  },
  {
   "cell_type": "code",
   "execution_count": 31,
   "id": "atlantic-triple",
   "metadata": {},
   "outputs": [
    {
     "name": "stdout",
     "output_type": "stream",
     "text": [
      "26702\n",
      "[(['ゾ ウ ア ラ ジ カ ル', 'ZU W LAA JHIH KAH L', 'z o o l o g i c a l'], 'Z UW L AA JH IH K AH L'), (['ズ ー オ ロ ジ ー', 'ZO W AA LAH JHI Y', 'z o o l o g y'], 'Z OW AA L AH JH IY'), (['ゾゥ ア ラ ジィ', 'ZO W AA LAH JHI Y', 'z o o l o g y'], 'Z OW AA L AH JH IY'), (['ゾ ウ オ ロ ジ ー', 'ZO W AA LAH JHI Y', 'z o o l o g y'], 'Z OW AA L AH JH IY'), (['ズ ー ム', 'ZU W M', 'z o o m'], 'Z UW M'), (['ズ ー ミ ン グ', 'ZU W MIH N G', 'z o o m i n g'], 'Z UW M IH NG'), (['ズッ キ ー ニ', 'ZU W KI Y NI Y', 'z u c c h i n i'], 'Z UW K IY N IY'), (['ツ ル ー', 'T RU W', 'T R U E'], 'T R UW'), (['トゥ ル ー', 'T RU W', 'T R U E'], 'T R UW'), (['ト ル ー', 'T RU W', 'T R U E'], 'T R UW')]\n"
     ]
    }
   ],
   "source": [
    "cmb2=list(zip(cmb1, new_ec))\n",
    "print(len(cmb2))\n",
    "# print(cmb2[-10:])"
   ]
  },
  {
   "cell_type": "code",
   "execution_count": 37,
   "id": "imported-blanket",
   "metadata": {},
   "outputs": [
    {
     "name": "stdout",
     "output_type": "stream",
     "text": [
      "26702\n",
      "[['ゾ ウ ア ラ ジ カ ル', 'ZU W LAA JHIH KAH L', 'z o o l o g i c a l', 'Z UW L AA JH IH K AH L'], ['ズ ー オ ロ ジ ー', 'ZO W AA LAH JHI Y', 'z o o l o g y', 'Z OW AA L AH JH IY'], ['ゾゥ ア ラ ジィ', 'ZO W AA LAH JHI Y', 'z o o l o g y', 'Z OW AA L AH JH IY'], ['ゾ ウ オ ロ ジ ー', 'ZO W AA LAH JHI Y', 'z o o l o g y', 'Z OW AA L AH JH IY'], ['ズ ー ム', 'ZU W M', 'z o o m', 'Z UW M'], ['ズ ー ミ ン グ', 'ZU W MIH N G', 'z o o m i n g', 'Z UW M IH NG'], ['ズッ キ ー ニ', 'ZU W KI Y NI Y', 'z u c c h i n i', 'Z UW K IY N IY'], ['ツ ル ー', 'T RU W', 'T R U E', 'T R UW'], ['トゥ ル ー', 'T RU W', 'T R U E', 'T R UW'], ['ト ル ー', 'T RU W', 'T R U E', 'T R UW']]\n"
     ]
    }
   ],
   "source": [
    "cmb3=[]\n",
    "for i in cmb2:\n",
    "    cmb3.append(i[0])\n",
    "print(len(cmb3))\n",
    "# print(cmb3[-10:])"
   ]
  },
  {
   "cell_type": "code",
   "execution_count": 38,
   "id": "outstanding-vancouver",
   "metadata": {},
   "outputs": [],
   "source": [
    "X=[]\n",
    "y=[]\n",
    "for i in cmb3:\n",
    "    X.append(i[0])\n",
    "    y.append(i[1:])"
   ]
  },
  {
   "cell_type": "code",
   "execution_count": 1,
   "id": "quiet-internship",
   "metadata": {},
   "outputs": [
    {
     "ename": "NameError",
     "evalue": "name 'X' is not defined",
     "output_type": "error",
     "traceback": [
      "\u001b[0;31m---------------------------------------------------------------------------\u001b[0m",
      "\u001b[0;31mNameError\u001b[0m                                 Traceback (most recent call last)",
      "\u001b[0;32m<ipython-input-1-cb35892a6531>\u001b[0m in \u001b[0;36m<module>\u001b[0;34m\u001b[0m\n\u001b[0;32m----> 1\u001b[0;31m \u001b[0mprint\u001b[0m\u001b[0;34m(\u001b[0m\u001b[0mlen\u001b[0m\u001b[0;34m(\u001b[0m\u001b[0mX\u001b[0m\u001b[0;34m)\u001b[0m\u001b[0;34m)\u001b[0m\u001b[0;34m\u001b[0m\u001b[0;34m\u001b[0m\u001b[0m\n\u001b[0m\u001b[1;32m      2\u001b[0m \u001b[0mprint\u001b[0m\u001b[0;34m(\u001b[0m\u001b[0mlen\u001b[0m\u001b[0;34m(\u001b[0m\u001b[0my\u001b[0m\u001b[0;34m)\u001b[0m\u001b[0;34m)\u001b[0m\u001b[0;34m\u001b[0m\u001b[0;34m\u001b[0m\u001b[0m\n\u001b[1;32m      3\u001b[0m \u001b[0;31m# print(X[30:60])\u001b[0m\u001b[0;34m\u001b[0m\u001b[0;34m\u001b[0m\u001b[0;34m\u001b[0m\u001b[0m\n\u001b[1;32m      4\u001b[0m \u001b[0;31m# print(y[30:60])\u001b[0m\u001b[0;34m\u001b[0m\u001b[0;34m\u001b[0m\u001b[0;34m\u001b[0m\u001b[0m\n",
      "\u001b[0;31mNameError\u001b[0m: name 'X' is not defined"
     ]
    }
   ],
   "source": [
    "print(len(X))\n",
    "print(len(y))\n",
    "# print(X[30:60])\n",
    "# print(y[30:60])"
   ]
  },
  {
   "cell_type": "code",
   "execution_count": 40,
   "id": "emerging-technique",
   "metadata": {},
   "outputs": [],
   "source": [
    "from sklearn.model_selection import train_test_split"
   ]
  },
  {
   "cell_type": "code",
   "execution_count": 52,
   "id": "conceptual-operator",
   "metadata": {},
   "outputs": [],
   "source": [
    "kata_train, test_x, y_train, test_y = train_test_split(X, y, test_size=0.2, random_state=42)"
   ]
  },
  {
   "cell_type": "code",
   "execution_count": 53,
   "id": "growing-circus",
   "metadata": {},
   "outputs": [
    {
     "name": "stdout",
     "output_type": "stream",
     "text": [
      "21361\n",
      "21361\n",
      "5341\n",
      "5341\n"
     ]
    }
   ],
   "source": [
    "print(len(kata_train))\n",
    "# print(len(X_test))\n",
    "print(len(y_train))\n",
    "print(len(test_y))\n",
    "print(len(test_x))\n",
    "# print(X_train[:10])\n",
    "# print(X_test[:10])\n",
    "# print(y_train[:10])\n",
    "# print(y_test[:10])"
   ]
  },
  {
   "cell_type": "code",
   "execution_count": 54,
   "id": "healthy-badge",
   "metadata": {},
   "outputs": [
    {
     "name": "stdout",
     "output_type": "stream",
     "text": [
      "['モ ダ ン ア ー ト', 'シ ー ズ ニ ン グ', 'ガ ン シッ プ', 'ダ イ オ ー ド', 'アッ プ タ ー ン', 'プ ラ イ ド', 'セ ミ ス イ ー ト', 'ゴ ー ファ ー', 'サ マ ー', 'ノ ル ディッ ク ファッ ショ ン']\n",
      "[['MAA DE R N AA R T', 'm o d e r n a r t', 'M AA D ER N AA R T'], ['SI Y ZAH NIH N G', 's e a s o n i n g', 'S IY Z AH N IH NG'], ['GAH N SHIH P', 'g u n s h i p', 'G AH N SH IH P'], ['DA Y O W D', 'd i o d e', 'D AY OW D'], ['AH P TE R N', 'u p t u r n', 'AH P T ER N'], ['P RA Y D', 'p r i d e', 'P R AY D'], ['SEH MI Y S WI Y T', 's e m i s u i t e', 'S EH M IY S W IY T'], ['GO W FE R', 'g o p h e r', 'G OW F ER'], ['SAH ME R', 's u m m e r', 'S AH M ER'], ['NAO R DIH K FAE SHAH N', 'n o r d i c f a s h i o n', 'N AO R D IH K F AE SH AH N']]\n"
     ]
    }
   ],
   "source": [
    "print(kata_train[:10])\n",
    "print(y_train[:10])"
   ]
  },
  {
   "cell_type": "code",
   "execution_count": 55,
   "id": "modern-zoning",
   "metadata": {},
   "outputs": [],
   "source": [
    "kata_test, kata_valid, y_test, y_valid = train_test_split(\n",
    "    test_x, test_y, test_size=0.5, random_state=42)"
   ]
  },
  {
   "cell_type": "code",
   "execution_count": 2,
   "id": "handy-myanmar",
   "metadata": {},
   "outputs": [
    {
     "ename": "NameError",
     "evalue": "name 'kata_test' is not defined",
     "output_type": "error",
     "traceback": [
      "\u001b[0;31m---------------------------------------------------------------------------\u001b[0m",
      "\u001b[0;31mNameError\u001b[0m                                 Traceback (most recent call last)",
      "\u001b[0;32m<ipython-input-2-e89d34894334>\u001b[0m in \u001b[0;36m<module>\u001b[0;34m\u001b[0m\n\u001b[0;32m----> 1\u001b[0;31m \u001b[0mprint\u001b[0m\u001b[0;34m(\u001b[0m\u001b[0mlen\u001b[0m\u001b[0;34m(\u001b[0m\u001b[0mkata_test\u001b[0m\u001b[0;34m)\u001b[0m\u001b[0;34m)\u001b[0m\u001b[0;34m\u001b[0m\u001b[0;34m\u001b[0m\u001b[0m\n\u001b[0m\u001b[1;32m      2\u001b[0m \u001b[0mprint\u001b[0m\u001b[0;34m(\u001b[0m\u001b[0mlen\u001b[0m\u001b[0;34m(\u001b[0m\u001b[0mkata_valid\u001b[0m\u001b[0;34m)\u001b[0m\u001b[0;34m)\u001b[0m\u001b[0;34m\u001b[0m\u001b[0;34m\u001b[0m\u001b[0m\n\u001b[1;32m      3\u001b[0m \u001b[0mprint\u001b[0m\u001b[0;34m(\u001b[0m\u001b[0mlen\u001b[0m\u001b[0;34m(\u001b[0m\u001b[0my_test\u001b[0m\u001b[0;34m)\u001b[0m\u001b[0;34m)\u001b[0m\u001b[0;34m\u001b[0m\u001b[0;34m\u001b[0m\u001b[0m\n\u001b[1;32m      4\u001b[0m \u001b[0mprint\u001b[0m\u001b[0;34m(\u001b[0m\u001b[0mlen\u001b[0m\u001b[0;34m(\u001b[0m\u001b[0my_valid\u001b[0m\u001b[0;34m)\u001b[0m\u001b[0;34m)\u001b[0m\u001b[0;34m\u001b[0m\u001b[0;34m\u001b[0m\u001b[0m\n\u001b[1;32m      5\u001b[0m \u001b[0;31m# print(kata_test[:10])\u001b[0m\u001b[0;34m\u001b[0m\u001b[0;34m\u001b[0m\u001b[0;34m\u001b[0m\u001b[0m\n",
      "\u001b[0;31mNameError\u001b[0m: name 'kata_test' is not defined"
     ]
    }
   ],
   "source": [
    "print(len(kata_test))\n",
    "print(len(kata_valid))\n",
    "print(len(y_test))\n",
    "print(len(y_valid))\n",
    "# print(kata_test[:10])\n",
    "# print(kata_valid[:10])\n",
    "# print(y_test[:10])\n",
    "# print(y_valid[:10])"
   ]
  },
  {
   "cell_type": "code",
   "execution_count": 57,
   "id": "parallel-steel",
   "metadata": {},
   "outputs": [
    {
     "name": "stdout",
     "output_type": "stream",
     "text": [
      "['MAA DE R N AA R T', 'SI Y ZAH NIH N G', 'GAH N SHIH P', 'DA Y O W D', 'AH P TE R N', 'P RA Y D', 'SEH MI Y S WI Y T', 'GO W FE R', 'SAH ME R', 'NAO R DIH K FAE SHAH N']\n",
      "21361\n"
     ]
    }
   ],
   "source": [
    "segph_train=[]\n",
    "for i in y_train:\n",
    "    segph_train.append(i[0])\n",
    "# print(segph_train[:10])\n",
    "print(len(segph_train))"
   ]
  },
  {
   "cell_type": "code",
   "execution_count": 65,
   "id": "downtown-military",
   "metadata": {},
   "outputs": [
    {
     "name": "stdout",
     "output_type": "stream",
     "text": [
      "['m o d e r n a r t', 's e a s o n i n g', 'g u n s h i p', 'd i o d e', 'u p t u r n', 'p r i d e', 's e m i s u i t e', 'g o p h e r', 's u m m e r', 'n o r d i c f a s h i o n']\n",
      "21361\n"
     ]
    }
   ],
   "source": [
    "enword_train=[]\n",
    "for i in y_train:\n",
    "    enword_train.append(i[1])\n",
    "# print(enword_train[:10])\n",
    "print(len(enword_train))"
   ]
  },
  {
   "cell_type": "code",
   "execution_count": 66,
   "id": "available-lodge",
   "metadata": {},
   "outputs": [
    {
     "name": "stdout",
     "output_type": "stream",
     "text": [
      "['M AA D ER N AA R T', 'S IY Z AH N IH NG', 'G AH N SH IH P', 'D AY OW D', 'AH P T ER N', 'P R AY D', 'S EH M IY S W IY T', 'G OW F ER', 'S AH M ER', 'N AO R D IH K F AE SH AH N']\n",
      "21361\n"
     ]
    }
   ],
   "source": [
    "encmu_train=[]\n",
    "for i in y_train:\n",
    "    encmu_train.append(i[2])\n",
    "# print(encmu_train[:10])\n",
    "print(len(encmu_train))"
   ]
  },
  {
   "cell_type": "code",
   "execution_count": 58,
   "id": "congressional-lancaster",
   "metadata": {},
   "outputs": [
    {
     "name": "stdout",
     "output_type": "stream",
     "text": [
      "['A Y MAE S K', 'IH S TAE B LIH SH MAH N T', 'PAO R SAH LAH N', 'NAA CH', 'HHO W S TIH N G SE R VE R', 'KAA N DE R', 'KAH S TAH M DA Y AH LAO G BAA K S', 'CHA Y NAH RIH S K', 'S KAO R PI Y AH N', 'DE Y VAH S KAH P']\n",
      "2670\n"
     ]
    }
   ],
   "source": [
    "segph_test=[]\n",
    "for i in y_test:\n",
    "    segph_test.append(i[0])\n",
    "# print(segph_test[:10])\n",
    "print(len(segph_test))"
   ]
  },
  {
   "cell_type": "code",
   "execution_count": 59,
   "id": "floating-interest",
   "metadata": {},
   "outputs": [
    {
     "name": "stdout",
     "output_type": "stream",
     "text": [
      "['SHU W HHAO R N', 'NU W AA N S', 'S WEH TE R', 'KAE M P', 'DE R EH K SHAH N', 'RAE CHAH T', 'TA Y M SHI Y T', 'JHAH NEH TIH K', 'NU W VEH L', 'DU W BA Y']\n",
      "2671\n"
     ]
    }
   ],
   "source": [
    "segph_valid=[]\n",
    "for i in y_valid:\n",
    "    segph_valid.append(i[0])\n",
    "# print(segph_valid[:10])\n",
    "print(len(segph_valid))"
   ]
  },
  {
   "cell_type": "code",
   "execution_count": 60,
   "id": "canadian-sport",
   "metadata": {},
   "outputs": [
    {
     "name": "stdout",
     "output_type": "stream",
     "text": [
      "['e y e m a s k', 'e s t a b l i s h m e n t', 'p o r c e l a i n', 'n o t c h', 'h o s t i n g s e r v e r', 'c o n d o r', 'c u s t o m d i a l o g b o x', 'c h i n a r i s k', 's c o r p i o n', 'd a v i s c u p']\n",
      "2670\n"
     ]
    }
   ],
   "source": [
    "enword_test=[]\n",
    "for i in y_test:\n",
    "    enword_test.append(i[1])\n",
    "# print(enword_test[:10])\n",
    "print(len(enword_test))"
   ]
  },
  {
   "cell_type": "code",
   "execution_count": 61,
   "id": "sacred-pride",
   "metadata": {},
   "outputs": [
    {
     "name": "stdout",
     "output_type": "stream",
     "text": [
      "['s h o e h o r n', 'n u a n c e', 's w e a t e r', 'c a m p', 'd i r e c t i o n', 'r a t c h e t', 't i m e s h e e t', 'g e n e t i c', 'n o u v e l l e', 'd u b a i']\n",
      "2671\n"
     ]
    }
   ],
   "source": [
    "enword_valid=[]\n",
    "for i in y_valid:\n",
    "    enword_valid.append(i[1])\n",
    "# print(enword_valid[:10])\n",
    "print(len(enword_valid))"
   ]
  },
  {
   "cell_type": "code",
   "execution_count": 63,
   "id": "neutral-necklace",
   "metadata": {},
   "outputs": [
    {
     "name": "stdout",
     "output_type": "stream",
     "text": [
      "['AY M AE S K', 'IH S T AE B L IH SH M AH N T', 'P AO R S AH L AH N', 'N AA CH', 'HH OW S T IH NG S ER V ER', 'K AA N D ER', 'K AH S T AH M D AY AH L AO G B AA K S', 'CH AY N AH R IH S K', 'S K AO R P IY AH N', 'D EY V AH S K AH P']\n",
      "2670\n"
     ]
    }
   ],
   "source": [
    "encmu_test=[]\n",
    "for i in y_test:\n",
    "    encmu_test.append(i[2])\n",
    "# print(encmu_test[:10])\n",
    "print(len(encmu_test))"
   ]
  },
  {
   "cell_type": "code",
   "execution_count": 62,
   "id": "declared-noise",
   "metadata": {},
   "outputs": [
    {
     "name": "stdout",
     "output_type": "stream",
     "text": [
      "['SH UW HH AO R N', 'N UW AA N S', 'S W EH T ER', 'K AE M P', 'D ER EH K SH AH N', 'R AE CH AH T', 'T AY M SH IY T', 'JH AH N EH T IH K', 'N UW V EH L', 'D UW B AY']\n",
      "2671\n"
     ]
    }
   ],
   "source": [
    "encmu_valid=[]\n",
    "for i in y_valid:\n",
    "    encmu_valid.append(i[2])\n",
    "# print(encmu_valid[:10])\n",
    "print(len(encmu_valid))"
   ]
  },
  {
   "cell_type": "code",
   "execution_count": 67,
   "id": "functioning-revolution",
   "metadata": {},
   "outputs": [
    {
     "name": "stdout",
     "output_type": "stream",
     "text": [
      "ok\n"
     ]
    }
   ],
   "source": [
    "##### save the aligned and splited data\n",
    "\n",
    "with open(\"train.kata\", \"w\") as tg:\n",
    "    for i in kata_train:\n",
    "        print(i, file=tg)\n",
    "with open(\"train.kcmu\", \"w\") as tp:\n",
    "    for i in segph_train:\n",
    "        print(i, file=tp)\n",
    "with open(\"test.kata\", \"w\") as xg:\n",
    "    for i in kata_test:\n",
    "        print(i, file=xg)\n",
    "with open(\"test.kcmu\", \"w\") as xp:\n",
    "    for i in segph_test:\n",
    "        print(i, file=xp)\n",
    "with open(\"dev.kata\", \"w\") as vg:\n",
    "    for i in kata_valid:\n",
    "        print(i, file=vg)\n",
    "with open(\"dev.kcmu\", \"w\") as vp:\n",
    "    for i in segph_valid:\n",
    "        print(i, file=vp)\n",
    "print(\"ok\")"
   ]
  },
  {
   "cell_type": "code",
   "execution_count": 68,
   "id": "eastern-offering",
   "metadata": {},
   "outputs": [
    {
     "name": "stdout",
     "output_type": "stream",
     "text": [
      "ok\n"
     ]
    }
   ],
   "source": [
    "##### save the UNaligned and splited data\n",
    "\n",
    "\n",
    "with open(\"train.eng\", \"w\") as tg:\n",
    "    for i in enword_train:\n",
    "        print(i, file=tg)\n",
    "with open(\"train.cmu\", \"w\") as tp:\n",
    "    for i in encmu_train:\n",
    "        print(i, file=tp)\n",
    "with open(\"test.eng\", \"w\") as xg:\n",
    "    for i in enword_test:\n",
    "        print(i, file=xg)\n",
    "with open(\"test.cmu\", \"w\") as xp:\n",
    "    for i in encmu_test:\n",
    "        print(i, file=xp)\n",
    "with open(\"dev.eng\", \"w\") as vg:\n",
    "    for i in enword_valid:\n",
    "        print(i, file=vg)\n",
    "with open(\"dev.cmu\", \"w\") as vp:\n",
    "    for i in encmu_valid:\n",
    "        print(i, file=vp)\n",
    "print(\"ok\")"
   ]
  },
  {
   "cell_type": "code",
   "execution_count": null,
   "id": "plastic-blackjack",
   "metadata": {},
   "outputs": [],
   "source": []
  }
 ],
 "metadata": {
  "kernelspec": {
   "display_name": "Python 3",
   "language": "python",
   "name": "python3"
  },
  "language_info": {
   "codemirror_mode": {
    "name": "ipython",
    "version": 3
   },
   "file_extension": ".py",
   "mimetype": "text/x-python",
   "name": "python",
   "nbconvert_exporter": "python",
   "pygments_lexer": "ipython3",
   "version": "3.8.5"
  }
 },
 "nbformat": 4,
 "nbformat_minor": 5
}
