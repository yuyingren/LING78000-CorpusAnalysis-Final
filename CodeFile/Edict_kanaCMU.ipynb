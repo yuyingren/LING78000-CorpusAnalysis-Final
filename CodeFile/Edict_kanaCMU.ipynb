{
 "cells": [
  {
   "cell_type": "code",
   "execution_count": 1,
   "id": "hairy-slave",
   "metadata": {},
   "outputs": [],
   "source": [
    "### this file is similar with the Katakana _dict file, which is cleaning and formatting another Japanese vocab\n",
    "### list --- Edictionary\n",
    "\n",
    "\n",
    "### the steps below are extracting the katakana words from Edicitonary in the similar way as extracting the JM dictionary\n",
    "\n",
    "git_file=[]\n",
    "with open(\"edictt.csv\", \"r\", encoding=\"utf-8\") as file:\n",
    "    for l in file:\n",
    "        ll=l.rstrip().split(\"\\t\")\n",
    "        git_file.append(ll)\n"
   ]
  },
  {
   "cell_type": "code",
   "execution_count": 6,
   "id": "special-camera",
   "metadata": {},
   "outputs": [
    {
     "name": "stdout",
     "output_type": "stream",
     "text": [
      "['ヲ', 'ー', 'ア', 'イ', 'ウ', 'ヴ', 'エ', 'オ', 'カ', 'キ', 'ク', 'ケ', 'コ', 'ガ', 'ギ', 'グ', 'ゲ', 'ゴ', 'サ', 'シ', 'ス', 'セ', 'ソ', 'ザ', 'ジ', 'ズ', 'ゼ', 'ゾ', 'タ', 'チ', 'ツ', 'テ', 'ト', 'ダ', 'ジ', 'ズ', 'デ', 'ド', 'ナ', 'ニ', 'ヌ', 'ネ', 'ノ', 'ハ', 'ヒ', 'フ', 'へ', 'ホ', 'バ', 'ビ', 'ブ', 'ベ', 'ボ', 'パ', 'ピ', 'プ', 'ぺ', 'ポ', 'マ', 'ミ', 'ム', 'メ', 'モ', 'ヤ', 'ユ', 'ヨ', 'ラ', 'リ', 'ル', 'レ', 'ロ', 'ワ', 'ン', 'ャ', 'ュ', 'ョ', 'ァ', 'ィ', 'ゥ', 'ェ', 'ォ', 'ッ']\n"
     ]
    }
   ],
   "source": [
    "k_char = []\n",
    "with open(\"character.txt\", \"r\", encoding=\"utf-8\") as kc:\n",
    "    for i in kc:\n",
    "        ii=i.rstrip()\n",
    "        k_char.append(ii)\n",
    "print(k_char)"
   ]
  },
  {
   "cell_type": "code",
   "execution_count": 2,
   "id": "fatal-scholarship",
   "metadata": {},
   "outputs": [
    {
     "name": "stdout",
     "output_type": "stream",
     "text": [
      "270459\n",
      "[['Ｃ型 [シーがた] ', '(n) type C (hepatitis, etc.)'], ['Ｃ型肝炎 [シーがたかんえん] ', '(n) hepatitis C'], ['Ｃ言語 [シーげんご] ', '(n) (comp) C programming language'], ['Ｃ層 [シーそう] ', \"(n) children's demographic (target audience)\"], ['Ｄ [ディ] ', '(n) (1) D', 'd', '(n) (2) (abbr) (col) director'], ['Ｄ [ディー] ', '(n) (1) D', 'd', '(n) (2) (abbr) (col) director'], ['ＤＡＴ [ダット] ', '(n) digital audiotape', 'DAT'], ['ＤＡＴ [ディーエーティー] ', '(n) digital audiotape', 'DAT'], ['ＤＢＭＳ [ディービーエムエス] ', '(n) (comp) database management system', 'DBMS'], ['ＤＤＩ [ディーディーアイ] ', '(n) dideoxyinosine', 'didanosine', 'DDI', 'ddI'], ['ＤＤＴ [ディーディーティー] ', '(n) dichlorodiphenyl-trichloro-ethane', 'DDT'], ['ＤＥＮ [デン] ', '(n) den', 'small room'], ['ＤＨ [ディーエイチ] ', '(n) (baseb) designated hitter', 'DH'], ['ＤＨ [ディーエッチ] ', '(n) (baseb) designated hitter', 'DH'], ['ＤＩ [ディーアイ] ', '(n) (1) diffusion index', '(n) (2) discomfort index', '(n) (3) drug information'], ['ＤＩＤ [ディーアイディー] ', '(n) densely inhabited district', 'DID'], ['ＤＩＧ [ディグ] ', '(n) disaster imagination game', 'disaster simulation exercise', 'DIG'], ['ＤＩＮＫＳ [ディンクス] ', '(n) dinks (double-income, no kids)', 'childless working couple'], ['ＤＩＮバルブ [ディンバルブ] ', '(n) DIN type scuba tank valve'], ['ＤＩＹ [ディーアイワイ] ', '(n) DIY', 'do-it-yourself'], ['ＤＪ [ディージェー] ', '(n) DJ', 'disc jockey'], ['ＤＫ [ディーケー] ', '(n) (1) (abbr) eat-in-kitchen', 'combination kitchen-dining room', '(n) (2) (sports) (abbr) dropkick (rugby)'], ['ＤＬ [ディーエル] ', '(n) (comp) download'], ['ＤＭ [ディーエム] ', '(n) (1) (abbr) direct mail', '(n) (2) (abbr) direct message'], ['ＤＭＡ [ディーエムエー] ', '(n) (comp) direct memory access', 'DMA'], ['ＤＮ [ディーエヌ] ', '(n) downstairs'], ['ＤＮＡ [ディーエヌエー] ', '(n) deoxyribonucleic acid', 'DNA'], ['ＤＮＡウイルス [ディーエヌエーウイルス] ', '(n) DNA virus'], ['ＤＮＡクローニング [ディーエヌエークローニング] ', '(n) DNA cloning'], ['ＤＮＡシークエンシング [ディーエヌエーシークエンシング] ', '(n) DNA sequencing']]\n"
     ]
    }
   ],
   "source": [
    "print(len(git_file))\n",
    "# print(git_file[1000:1030])"
   ]
  },
  {
   "cell_type": "code",
   "execution_count": 53,
   "id": "divine-scanner",
   "metadata": {},
   "outputs": [],
   "source": [
    "import re\n",
    "kata_w=[]\n",
    "\n",
    "for entry in git_file:\n",
    "    n_entry=[]\n",
    "    iii = []\n",
    "    word=re.sub(\" \", \"\", entry[0])\n",
    "    for i in word:\n",
    "        ched_list = [characters in k_char for characters in i]\n",
    "        if all(ched_list) == False:\n",
    "            iii.append(\"FALSE\")\n",
    "        if  all(ched_list) == True:\n",
    "            iii.append(i)\n",
    "    n_entry.append(iii)\n",
    "    n_entry.append(entry[1:])\n",
    "    kata_w.append(n_entry)"
   ]
  },
  {
   "cell_type": "code",
   "execution_count": 1,
   "id": "reliable-forum",
   "metadata": {},
   "outputs": [],
   "source": [
    "# print(kata_w[:20])"
   ]
  },
  {
   "cell_type": "code",
   "execution_count": 55,
   "id": "heavy-norman",
   "metadata": {},
   "outputs": [
    {
     "name": "stdout",
     "output_type": "stream",
     "text": [
      "270459\n",
      "[['ウ', 'ラ', 'ン', 'FALSE', 'ガ', 'ラ', 'ス'], ['(n) uranium glass']]\n",
      "[['ウ', 'ラ', 'ン', 'ガ', 'ラ', 'ス'], ['(n) uranium glass']]\n"
     ]
    }
   ],
   "source": [
    "print(len(kata_w))\n",
    "for i in kata_w:\n",
    "\n",
    "    if '(n) uranium glass' in i[1]:\n",
    "        print(i)\n"
   ]
  },
  {
   "cell_type": "code",
   "execution_count": 56,
   "id": "distinct-attempt",
   "metadata": {},
   "outputs": [],
   "source": [
    "kata_list = []\n",
    "for en in kata_w:\n",
    "    if \"FALSE\" not in en[0]:\n",
    "        kata_list.append(en)\n",
    "\n"
   ]
  },
  {
   "cell_type": "code",
   "execution_count": 59,
   "id": "systematic-investing",
   "metadata": {},
   "outputs": [
    {
     "name": "stdout",
     "output_type": "stream",
     "text": [
      "43954\n",
      "[[['ア', 'ー', 'ク'], ['(n) arc (esp. electrical)', '(P)']], [['ア', 'ー', 'ク', 'エ', 'ネ', 'ル', 'ギ', 'ー'], ['(n) arc energy']], [['ア', 'ー', 'ク', 'エ', 'ン', 'ジ', 'ェ', 'ル'], ['(n) archangels']], [['ア', 'ー', 'ク', 'ガ', 'イ', 'ド'], ['(n) arc guide']], [['ア', 'ー', 'ク', 'ガ', 'ウ', 'ジ', 'ン', 'グ'], ['(n) arc gouging']], [['ア', 'ー', 'ク', 'コ', 'サ', 'イ', 'ン'], ['(n) arccosine', 'arc-cosine']], [['ア', 'ー', 'ク', 'コ', 'セ', 'カ', 'ン', 'ト'], ['(n) arccosecant', 'arc-cosecant']], [['ア', 'ー', 'ク', 'コ', 'タ', 'ン', 'ジ', 'ェ', 'ン', 'ト'], ['(n) arccotangent', 'arc-cotangent']], [['ア', 'ー', 'ク', 'サ', 'イ', 'ン'], ['(n) arcsine']], [['ア', 'ー', 'ク', 'セ', 'カ', 'ン', 'ト'], ['(n) arcsecant']]]\n"
     ]
    }
   ],
   "source": [
    "print(len(kata_list))\n",
    "print(kata_list[50:60])\n",
    "kata_sub=[]\n",
    "for i in kata_list:\n",
    "    ii=[]\n",
    "    i2=[]\n",
    "    i1=\"\".join(i[0])\n",
    "    ii.append(i1)\n",
    "    for j in i[1]:\n",
    "        k=re.sub(r'\\((.*?)\\)', '', j)\n",
    "        kk=k.casefold()\n",
    "        kkk=kk.split(\" \")\n",
    "        i2.append(kkk)\n",
    "    ii.append(i2)\n",
    "    kata_sub.append(ii)\n",
    "        \n",
    "        \n",
    "    "
   ]
  },
  {
   "cell_type": "code",
   "execution_count": 63,
   "id": "parental-locator",
   "metadata": {},
   "outputs": [
    {
     "name": "stdout",
     "output_type": "stream",
     "text": [
      "[['arc']]\n"
     ]
    }
   ],
   "source": [
    "te=[['', 'arc', ''], ['']]\n",
    "tl=[]\n",
    "for i in te:\n",
    "    l=[e for e in i if e]\n",
    "    if l !=[]:\n",
    "    \n",
    "        tl.append(l)\n",
    "print(tl)"
   ]
  },
  {
   "cell_type": "code",
   "execution_count": 64,
   "id": "regular-cliff",
   "metadata": {},
   "outputs": [
    {
     "name": "stdout",
     "output_type": "stream",
     "text": [
      "43954\n",
      "[['アーク', [['', 'arc', ''], ['']]], ['アークエネルギー', [['', 'arc', 'energy']]], ['アークエンジェル', [['', 'archangels']]], ['アークガイド', [['', 'arc', 'guide']]], ['アークガウジング', [['', 'arc', 'gouging']]], ['アークコサイン', [['', 'arccosine'], ['arc-cosine']]], ['アークコセカント', [['', 'arccosecant'], ['arc-cosecant']]], ['アークコタンジェント', [['', 'arccotangent'], ['arc-cotangent']]], ['アークサイン', [['', 'arcsine']]], ['アークセカント', [['', 'arcsecant']]]]\n"
     ]
    }
   ],
   "source": [
    "print(len(kata_sub))\n",
    "# print(kata_sub[50:60])\n",
    "kata_sub1=[]\n",
    "kata_sub2=[]\n",
    "for i in kata_sub:\n",
    "    ii=[]\n",
    "    iii=[]\n",
    "    i2=[]\n",
    "    \n",
    "    for j in i[1]:\n",
    "        k=[kk for kk in j if kk]\n",
    "        if k != []:\n",
    "            i2.append(k)\n",
    "    if len(i2) == 1:\n",
    "        ii.append(i[0])\n",
    "        ii.append(i2)\n",
    "        kata_sub1.append(ii)\n",
    "    if len(i2) >1:\n",
    "        iii.append(i[0])\n",
    "        iii.append(i2)\n",
    "        kata_sub2.append(iii)"
   ]
  },
  {
   "cell_type": "code",
   "execution_count": 66,
   "id": "expected-radical",
   "metadata": {},
   "outputs": [
    {
     "name": "stdout",
     "output_type": "stream",
     "text": [
      "31985\n",
      "11969\n",
      "[['ー', [['long', 'vowel', 'mark']]], ['アーウィン', [['erwin']]], ['アーカイバ', [['archiver']]], ['アーカイバー', [['archiver']]], ['アーカイバル', [['archival']]], ['アーカイバルファイル', [['archival', 'file']]], ['アーカイバルメモリ', [['archival', 'memory']]], ['アーカイビング', [['archiving']]], ['アーカイブ', [['archive']]], ['アーカイブサーバ', [['archive', 'server']]]]\n",
      "[['アース', [['earth'], ['ground'], ['earthing'], ['grounding'], ['earth']]], ['アースカラー', [['earth', 'color'], ['earth', 'colour']]], ['アースバンド', [['earth', 'band'], ['earth', 'strap'], ['strap', 'snug']]], ['アースライン', [['ground', 'line'], ['earth', 'line']]], ['アーゼノクラサイト', [['arsenoclasite'], ['arsenoklasite']]], ['アーダー', [['ardor'], ['ardour']]], ['アーチ', [['arch'], ['home', 'run']]], ['アーチスト', [['artist'], ['musician']]], ['アーチファクト', [['artifact'], ['artefact']]], ['アーティスツ', [['artist'], ['musician']]]]\n"
     ]
    }
   ],
   "source": [
    "print(len(kata_sub1))\n",
    "print(len(kata_sub2))\n",
    "print(kata_sub1[:10])\n",
    "print(kata_sub2[20:30])"
   ]
  },
  {
   "cell_type": "code",
   "execution_count": 67,
   "id": "advisory-dream",
   "metadata": {},
   "outputs": [],
   "source": [
    "##### steps below are comparing the katakana word list from Edictionary and the one from JMdcitionary and delete the duplicates\n",
    "\n",
    "\n",
    "kata_cmu=[]\n",
    "with open(\"kata_cmu.csv\", \"r\", encoding=\"utf-8\") as file1:\n",
    "    for l in file1:\n",
    "        ll=l.rstrip().split(\"\\t\")\n",
    "        kata_cmu.append(ll[0])"
   ]
  },
  {
   "cell_type": "code",
   "execution_count": 68,
   "id": "clinical-polls",
   "metadata": {},
   "outputs": [
    {
     "name": "stdout",
     "output_type": "stream",
     "text": [
      "16085\n",
      "['アフターシェーブローション', 'アフロキューバンリズム', 'アンツーカ', 'アンツーカー', 'イヤラウンドファッション', 'ウォッシュアンドウエア', 'ウォッシュアンドウェア', 'ウオッシュアンドウエア', 'オートキャンプ', 'オートチューニングデッキ']\n"
     ]
    }
   ],
   "source": [
    "print(len(kata_cmu))\n",
    "print(kata_cmu[:10])"
   ]
  },
  {
   "cell_type": "code",
   "execution_count": 71,
   "id": "assured-homeless",
   "metadata": {},
   "outputs": [],
   "source": [
    "appends=[]\n",
    "\n",
    "for i in kata_sub1[1:]:\n",
    "    if i[0] not in kata_cmu:\n",
    "        appends.append(i)"
   ]
  },
  {
   "cell_type": "code",
   "execution_count": 72,
   "id": "engaged-radius",
   "metadata": {},
   "outputs": [
    {
     "name": "stdout",
     "output_type": "stream",
     "text": [
      "19742\n",
      "[['アーカイバ', [['archiver']]], ['アーカイバー', [['archiver']]], ['アーカイバルファイル', [['archival', 'file']]], ['アーカイバルメモリ', [['archival', 'memory']]], ['アーカイビング', [['archiving']]], ['アーカイブサーバ', [['archive', 'server']]], ['アーカイブサーバー', [['archive', 'server']]], ['アーカイブデータセット', [['archive', 'data', 'set']]], ['アーカイブビット', [['archive', 'bit']]], ['アーカイブファイル', [['archive', 'file']]]]\n"
     ]
    }
   ],
   "source": [
    "print(len(appends))\n",
    "# print(appends[:10])"
   ]
  },
  {
   "cell_type": "code",
   "execution_count": 73,
   "id": "suburban-zoning",
   "metadata": {},
   "outputs": [],
   "source": [
    "appends1=[]\n",
    "for i in kata_sub2:\n",
    "    if i[0] not in kata_cmu:\n",
    "        appends1.append(i)\n"
   ]
  },
  {
   "cell_type": "code",
   "execution_count": 86,
   "id": "relevant-factor",
   "metadata": {},
   "outputs": [
    {
     "name": "stdout",
     "output_type": "stream",
     "text": [
      "7992\n",
      "[['アームホール', [['armhole'], ['sleeve-hole']]], ['アームレスリング', [['arm', 'wrestling'], ['to', 'arm', 'wrestle']]], ['アームロック', [['arm', 'lock'], ['armlock']]], ['アーモンドプードル', [['almond', 'flour'], ['almond', 'meal'], ['ground', 'almond']]], ['アールエイチ', [['rh'], ['rhesus', 'factor']]], ['アールブリュット', [['art', 'brut'], ['outsider', 'art']]], ['アールブリュト', [['art', 'brut'], ['outsider', 'art']]], ['アーン', [['opening', 'wide'], ['\"saying', '\"\"aah\"\"\"'], ['crying', 'loudly'], ['wailing'], ['bawling']]], ['アァ', [['ah!'], ['oh!'], ['alas!'], ['yes'], ['indeed'], ['that', 'is', 'correct'], ['aah'], ['gah'], ['argh'], ['hey!'], ['yo!'], ['uh', 'huh'], ['yeah', 'yeah'], ['right'], ['gotcha']]], ['アア', [['ah!'], ['oh!'], ['alas!'], ['yes'], ['indeed'], ['that', 'is', 'correct'], ['aah'], ['gah'], ['argh'], ['hey!'], ['yo!'], ['uh', 'huh'], ['yeah', 'yeah'], ['right'], ['gotcha']]]]\n"
     ]
    }
   ],
   "source": [
    "print(len(appends1))\n",
    "# print(appends1[20:30])"
   ]
  },
  {
   "cell_type": "code",
   "execution_count": 1,
   "id": "happy-spouse",
   "metadata": {},
   "outputs": [],
   "source": [
    "###### in these steps, the cmu dictionary pronunciations will be added to the katakana word list\n",
    "\n",
    "eng_list=[]\n",
    "with open(\"cmudict.txt\", \"r\", encoding='latin-1') as cmufile:\n",
    "    for i in cmufile:\n",
    "        l=i.rstrip()\n",
    "        eng_list.append(l)"
   ]
  },
  {
   "cell_type": "code",
   "execution_count": 2,
   "id": "affiliated-charles",
   "metadata": {},
   "outputs": [
    {
     "ename": "NameError",
     "evalue": "name 'eng_list' is not defined",
     "output_type": "error",
     "traceback": [
      "\u001b[0;31m---------------------------------------------------------------------------\u001b[0m",
      "\u001b[0;31mNameError\u001b[0m                                 Traceback (most recent call last)",
      "\u001b[0;32m<ipython-input-2-8900e3f60341>\u001b[0m in \u001b[0;36m<module>\u001b[0;34m\u001b[0m\n\u001b[0;32m----> 1\u001b[0;31m \u001b[0mprint\u001b[0m\u001b[0;34m(\u001b[0m\u001b[0mlen\u001b[0m\u001b[0;34m(\u001b[0m\u001b[0meng_list\u001b[0m\u001b[0;34m)\u001b[0m\u001b[0;34m)\u001b[0m\u001b[0;34m\u001b[0m\u001b[0;34m\u001b[0m\u001b[0m\n\u001b[0m\u001b[1;32m      2\u001b[0m \u001b[0;31m# print(eng_list[:20])\u001b[0m\u001b[0;34m\u001b[0m\u001b[0;34m\u001b[0m\u001b[0;34m\u001b[0m\u001b[0m\n",
      "\u001b[0;31mNameError\u001b[0m: name 'eng_list' is not defined"
     ]
    }
   ],
   "source": [
    "print(len(eng_list))\n",
    "# print(eng_list[:20])"
   ]
  },
  {
   "cell_type": "code",
   "execution_count": 3,
   "id": "decimal-compression",
   "metadata": {},
   "outputs": [],
   "source": [
    "import re"
   ]
  },
  {
   "cell_type": "code",
   "execution_count": 4,
   "id": "tender-rochester",
   "metadata": {},
   "outputs": [
    {
     "name": "stdout",
     "output_type": "stream",
     "text": [
      "134294\n"
     ]
    }
   ],
   "source": [
    "#### clean and orgaize the cmu pronunciation dictioanry\n",
    "\n",
    "newcmu=[]\n",
    "for i in eng_list:\n",
    "    ii=[]\n",
    "    j=i.split(\"  \")\n",
    "    k=j[0].casefold()\n",
    "    kk=re.sub(r'\\((.*?)\\)', '', k)\n",
    "    kkk=re.sub(\"'s\", '', kk)\n",
    "    kkkk=re.sub(\"'\", '', kkk)\n",
    "    ii.append(kkkk)\n",
    "    ii.append(j[1])\n",
    "    newcmu.append(ii)\n",
    "    \n",
    "print(len(newcmu))\n"
   ]
  },
  {
   "cell_type": "code",
   "execution_count": 9,
   "id": "regular-producer",
   "metadata": {},
   "outputs": [
    {
     "name": "stdout",
     "output_type": "stream",
     "text": [
      "ok\n"
     ]
    }
   ],
   "source": [
    "#### save the cleaned cmu pronunciation dictionary\n",
    "\n",
    "import csv\n",
    "with open(\"cmu_clean.csv\", \"w\") as cf:\n",
    "    csvwriter = csv.writer(cf, delimiter='\\t')\n",
    "    csvwriter.writerows(newcmu)\n",
    "print(\"ok\")"
   ]
  },
  {
   "cell_type": "code",
   "execution_count": 81,
   "id": "caring-gateway",
   "metadata": {},
   "outputs": [
    {
     "name": "stdout",
     "output_type": "stream",
     "text": [
      "['aa', 'aaa', 'aaai', 'aaberg', 'aachen', 'aachener', 'aah', 'aaker', 'aaliyah', 'aalseth', 'aamodt', 'aancor', 'aardema', 'aardvark', 'aardvarks', 'aargh', 'aarhus', 'aaron', \"aaron's\", 'aarons']\n",
      "134294\n",
      "134294\n"
     ]
    }
   ],
   "source": [
    "#### extract the english words, and their pronunciations into two lists\n",
    "\n",
    "en_words=[]\n",
    "pr=[]\n",
    "for i in eng_list:\n",
    "    ii=i.split(\"  \")\n",
    "    en_words.append(ii[0].casefold())\n",
    "    j=re.sub(\" \", \"_\", ii[1])\n",
    "    pr.append(j)\n",
    "    \n",
    "# print(en_words[:20])\n",
    "print(len(en_words))\n",
    "print(len(pr))\n",
    "\n",
    "#### making a pronunciation dictionary of cmu\n",
    "\n",
    "pron_dict=dict(list(zip(en_words,pr)))\n",
    "print(len(pron_dict))\n",
    "\n"
   ]
  },
  {
   "cell_type": "code",
   "execution_count": 83,
   "id": "invisible-atlantic",
   "metadata": {},
   "outputs": [],
   "source": [
    "#### cleaning the katakana word list of Edictionary by removing words that cannot find their english gloss in the cmu dictionary\n",
    "\n",
    "appendss=[]\n",
    "for i in appends:\n",
    "    ii=[]\n",
    "    ii.append(i[0])\n",
    "    ie=[]\n",
    "    ip=[]\n",
    "    for j in i[1][0]:\n",
    "        if j in pron_dict:\n",
    "            ie.append(j)\n",
    "            ip.append(pron_dict[j])\n",
    "        if j not in pron_dict:\n",
    "            ie.append(\"NA\")\n",
    "            ip.append(\"NA\")\n",
    "    ii.append(ie)\n",
    "    ii.append(ip)\n",
    "    appendss.append(ii)"
   ]
  },
  {
   "cell_type": "code",
   "execution_count": 85,
   "id": "guilty-steel",
   "metadata": {},
   "outputs": [
    {
     "name": "stdout",
     "output_type": "stream",
     "text": [
      "19742\n",
      "[['アーカイバ', ['NA'], ['NA']], ['アーカイバー', ['NA'], ['NA']], ['アーカイバルファイル', ['archival', 'file'], ['AA0_R_K_AY1_V_AH0_L', 'F_AY1_L']], ['アーカイバルメモリ', ['archival', 'memory'], ['AA0_R_K_AY1_V_AH0_L', 'M_EH1_M_ER0_IY0']], ['アーカイビング', ['NA'], ['NA']], ['アーカイブサーバ', ['archive', 'server'], ['AA1_R_K_AY2_V', 'S_ER1_V_ER0']], ['アーカイブサーバー', ['archive', 'server'], ['AA1_R_K_AY2_V', 'S_ER1_V_ER0']], ['アーカイブデータセット', ['archive', 'data', 'set'], ['AA1_R_K_AY2_V', 'D_EY1_T_AH0', 'S_EH1_T']], ['アーカイブビット', ['archive', 'bit'], ['AA1_R_K_AY2_V', 'B_IH1_T']], ['アーカイブファイル', ['archive', 'file'], ['AA1_R_K_AY2_V', 'F_AY1_L']]]\n",
      "11176\n",
      "[['アーカイバルファイル', ['archival', 'file'], ['AA0_R_K_AY1_V_AH0_L', 'F_AY1_L']], ['アーカイバルメモリ', ['archival', 'memory'], ['AA0_R_K_AY1_V_AH0_L', 'M_EH1_M_ER0_IY0']], ['アーカイブサーバ', ['archive', 'server'], ['AA1_R_K_AY2_V', 'S_ER1_V_ER0']], ['アーカイブサーバー', ['archive', 'server'], ['AA1_R_K_AY2_V', 'S_ER1_V_ER0']], ['アーカイブデータセット', ['archive', 'data', 'set'], ['AA1_R_K_AY2_V', 'D_EY1_T_AH0', 'S_EH1_T']], ['アーカイブビット', ['archive', 'bit'], ['AA1_R_K_AY2_V', 'B_IH1_T']], ['アーカイブファイル', ['archive', 'file'], ['AA1_R_K_AY2_V', 'F_AY1_L']], ['アーカイブライブラリ', ['archive', 'library'], ['AA1_R_K_AY2_V', 'L_AY1_B_R_EH0_R_IY2']], ['アーガイルチェック', ['argyle', 'check'], ['AA1_R_G_AY2_L', 'CH_EH1_K']], ['アーガルチェック', ['argyle', 'check'], ['AA1_R_G_AY2_L', 'CH_EH1_K']]]\n"
     ]
    }
   ],
   "source": [
    "print(len(appendss))\n",
    "print(appendss[:10])\n",
    "appendsss=[]\n",
    "for i in appendss:\n",
    "    if \"NA\" not in i[1]:\n",
    "        appendsss.append(i)\n",
    "print(len(appendsss))\n",
    "# print(appendsss[:10])"
   ]
  },
  {
   "cell_type": "code",
   "execution_count": 89,
   "id": "daily-anthropology",
   "metadata": {},
   "outputs": [],
   "source": [
    "appendss1=[]\n",
    "for i in appends1:\n",
    "    ii=[]\n",
    "    ii.append(i[0])\n",
    "    i2=[]\n",
    "\n",
    "    for j in i[1]:\n",
    "        ke=[]\n",
    "        kp=[]\n",
    "        for k in j:\n",
    "            if k in pron_dict:\n",
    "                ke.append(k)\n",
    "                kp.append(pron_dict[k])\n",
    "            if k not in pron_dict:\n",
    "                ke.append(\"NA\")\n",
    "                kp.append(\"NA\")\n",
    "        i2.append(ke)\n",
    "        i2.append(kp)\n",
    "    ii.append(i2)\n",
    "    appendss1.append(ii)"
   ]
  },
  {
   "cell_type": "code",
   "execution_count": 102,
   "id": "arabic-collaboration",
   "metadata": {},
   "outputs": [],
   "source": [
    "\n",
    "appendsss1=[]\n",
    "for i in appendss1:\n",
    "    ii=[]\n",
    "    ii.append(i[0])\n",
    "    i2=[]\n",
    "    for j in i[1]:\n",
    "        if 'NA' not in j:\n",
    "            i2.append(j)\n",
    "    ii.append(i2)\n",
    "    \n",
    "    appendsss1.append(ii)"
   ]
  },
  {
   "cell_type": "code",
   "execution_count": 103,
   "id": "acknowledged-pressure",
   "metadata": {},
   "outputs": [
    {
     "name": "stdout",
     "output_type": "stream",
     "text": [
      "7992\n",
      "[['へー', [['NA', 'NA'], ['NA', 'NA'], ['NA'], ['NA']]], ['ぺ', [['word', 'used', 'at', 'NA', 'to', 'indicate', 'NA', 'volition', 'or', 'invitation'], ['W_ER1_D', 'Y_UW1_Z_D', 'AE1_T', 'NA', 'T_UW1', 'IH1_N_D_AH0_K_EY2_T', 'NA', 'V_OW0_L_IH1_SH_AH0_N', 'AO1_R', 'IH2_N_V_IH0_T_EY1_SH_AH0_N'], ['familiar', 'suffix', 'used', 'after', 'NA', 'personal', 'name'], ['F_AH0_M_IH1_L_Y_ER0', 'S_AH1_F_IH0_K_S', 'Y_UW1_Z_D', 'AE1_F_T_ER0', 'NA', 'P_ER1_S_IH0_N_AH0_L', 'N_EY1_M']]], ['ぺーぺー', [['underling'], ['AH1_N_D_ER0_L_IH0_NG'], ['newbie'], ['N_UW1_B_IY2'], ['small', 'fry'], ['S_M_AO1_L', 'F_R_AY1'], ['newcomer'], ['N_UW1_K_AH2_M_ER0']]], ['ア', [['ah'], ['AA1'], ['oh'], ['OW1'], ['NA'], ['NA']]], ['アー', [['NA'], ['NA'], ['NA'], ['NA'], ['NA'], ['NA'], ['yes'], ['Y_EH1_S'], ['indeed'], ['IH2_N_D_IY1_D'], ['that', 'is', 'correct'], ['DH_AE1_T', 'IH1_Z', 'K_ER0_EH1_K_T'], ['aah'], ['AA1'], ['NA'], ['NA'], ['argh'], ['AA1_R_G'], ['NA'], ['NA'], ['NA'], ['NA'], ['uh', 'huh'], ['AH1', 'HH_AH1'], ['yeah', 'yeah'], ['Y_AE1', 'Y_AE1'], ['right'], ['R_AY1_T'], ['gotcha'], ['G_AA1_CH_AH0']]], ['アーー', [['NA'], ['NA'], ['NA'], ['NA'], ['oh', 'NA'], ['OW1', 'NA'], ['oh', 'NA'], ['OW1', 'NA']]], ['アーーー', [['NA'], ['NA'], ['NA'], ['NA'], ['oh', 'NA'], ['OW1', 'NA'], ['oh', 'NA'], ['OW1', 'NA']]], ['アーア', [['NA'], ['NA'], ['NA'], ['NA'], ['oh', 'NA'], ['OW1', 'NA'], ['oh', 'NA'], ['OW1', 'NA']]], ['アーアー', [['NA'], ['NA'], ['NA'], ['NA'], ['oh', 'NA'], ['OW1', 'NA'], ['oh', 'NA'], ['OW1', 'NA']]], ['アークコサイン', [['NA'], ['NA'], ['NA'], ['NA']]]]\n",
      "7992\n",
      "[['へー', []], ['ぺ', []], ['ぺーぺー', [['underling'], ['AH1_N_D_ER0_L_IH0_NG'], ['newbie'], ['N_UW1_B_IY2'], ['small', 'fry'], ['S_M_AO1_L', 'F_R_AY1'], ['newcomer'], ['N_UW1_K_AH2_M_ER0']]], ['ア', [['ah'], ['AA1'], ['oh'], ['OW1']]], ['アー', [['yes'], ['Y_EH1_S'], ['indeed'], ['IH2_N_D_IY1_D'], ['that', 'is', 'correct'], ['DH_AE1_T', 'IH1_Z', 'K_ER0_EH1_K_T'], ['aah'], ['AA1'], ['argh'], ['AA1_R_G'], ['uh', 'huh'], ['AH1', 'HH_AH1'], ['yeah', 'yeah'], ['Y_AE1', 'Y_AE1'], ['right'], ['R_AY1_T'], ['gotcha'], ['G_AA1_CH_AH0']]], ['アーー', []], ['アーーー', []], ['アーア', []], ['アーアー', []], ['アークコサイン', []]]\n"
     ]
    }
   ],
   "source": [
    "print(len(appendss1))\n",
    "# print(appendss1[:10])\n",
    "print(len(appendsss1))\n",
    "print(appendsss1[:10])"
   ]
  },
  {
   "cell_type": "code",
   "execution_count": 104,
   "id": "aware-deposit",
   "metadata": {},
   "outputs": [
    {
     "name": "stdout",
     "output_type": "stream",
     "text": [
      "[['ぺーぺー', [['underling'], ['AH1_N_D_ER0_L_IH0_NG'], ['newbie'], ['N_UW1_B_IY2'], ['small', 'fry'], ['S_M_AO1_L', 'F_R_AY1'], ['newcomer'], ['N_UW1_K_AH2_M_ER0']]], ['ア', [['ah'], ['AA1'], ['oh'], ['OW1']]], ['アー', [['yes'], ['Y_EH1_S'], ['indeed'], ['IH2_N_D_IY1_D'], ['that', 'is', 'correct'], ['DH_AE1_T', 'IH1_Z', 'K_ER0_EH1_K_T'], ['aah'], ['AA1'], ['argh'], ['AA1_R_G'], ['uh', 'huh'], ['AH1', 'HH_AH1'], ['yeah', 'yeah'], ['Y_AE1', 'Y_AE1'], ['right'], ['R_AY1_T'], ['gotcha'], ['G_AA1_CH_AH0']]], ['アークランプ', [['arc', 'lamp'], ['AA1_R_K', 'L_AE1_M_P'], ['arc', 'light'], ['AA1_R_K', 'L_AY1_T']]], ['アーシング', [['grounding'], ['G_R_AW1_N_D_IH0_NG']]], ['アースカラー', [['earth', 'color'], ['ER1_TH', 'K_AH1_L_ER0'], ['earth', 'colour'], ['ER1_TH', 'K_AH1_L_ER0']]], ['アースバンド', [['earth', 'band'], ['ER1_TH', 'B_AE1_N_D'], ['earth', 'strap'], ['ER1_TH', 'S_T_R_AE1_P'], ['strap', 'snug'], ['S_T_R_AE1_P', 'S_N_AH1_G']]], ['アースライン', [['ground', 'line'], ['G_R_AW1_N_D', 'L_AY1_N'], ['earth', 'line'], ['ER1_TH', 'L_AY1_N']]], ['アーティスティックスイミング', [['artistic', 'swimming'], ['AA0_R_T_IH1_S_T_IH0_K', 'S_W_IH1_M_IH0_NG'], ['synchronized', 'swimming'], ['S_IH1_NG_K_R_AH0_N_AY2_Z_D', 'S_W_IH1_M_IH0_NG']]], ['アートシアター', [['art', 'theater'], ['AA1_R_T', 'TH_IY1_EY0_T_ER0'], ['art', 'theatre'], ['AA1_R_T', 'TH_IY1_AH0_T_ER0']]]]\n",
      "6293\n"
     ]
    }
   ],
   "source": [
    "append_sub11=[]\n",
    "for i in appendsss1:\n",
    "    if i[1] != []:\n",
    "        append_sub11.append(i)\n",
    "print(append_sub11[:10])\n",
    "print(len(append_sub11))"
   ]
  },
  {
   "cell_type": "code",
   "execution_count": 105,
   "id": "coupled-profile",
   "metadata": {},
   "outputs": [
    {
     "name": "stdout",
     "output_type": "stream",
     "text": [
      "11176\n",
      "[['アーカイバルファイル', 'archival|file', 'AA0_R_K_AY1_V_AH0_L|F_AY1_L'], ['アーカイバルメモリ', 'archival|memory', 'AA0_R_K_AY1_V_AH0_L|M_EH1_M_ER0_IY0'], ['アーカイブサーバ', 'archive|server', 'AA1_R_K_AY2_V|S_ER1_V_ER0'], ['アーカイブサーバー', 'archive|server', 'AA1_R_K_AY2_V|S_ER1_V_ER0'], ['アーカイブデータセット', 'archive|data|set', 'AA1_R_K_AY2_V|D_EY1_T_AH0|S_EH1_T'], ['アーカイブビット', 'archive|bit', 'AA1_R_K_AY2_V|B_IH1_T'], ['アーカイブファイル', 'archive|file', 'AA1_R_K_AY2_V|F_AY1_L'], ['アーカイブライブラリ', 'archive|library', 'AA1_R_K_AY2_V|L_AY1_B_R_EH0_R_IY2'], ['アーガイルチェック', 'argyle|check', 'AA1_R_G_AY2_L|CH_EH1_K'], ['アーガルチェック', 'argyle|check', 'AA1_R_G_AY2_L|CH_EH1_K']]\n"
     ]
    }
   ],
   "source": [
    "appends_sub=[]\n",
    "for i in appendsss:\n",
    "    ii=[]\n",
    "    ii.append(i[0])\n",
    "    ii.append(\"|\".join(i[1]))\n",
    "    ii.append(\"|\".join(i[2]))\n",
    "    appends_sub.append(ii)\n",
    "print(len(appends_sub))\n",
    "print(appends_sub[:10])"
   ]
  },
  {
   "cell_type": "code",
   "execution_count": 107,
   "id": "homeless-royalty",
   "metadata": {},
   "outputs": [
    {
     "name": "stdout",
     "output_type": "stream",
     "text": [
      "ok\n"
     ]
    }
   ],
   "source": [
    "import csv\n",
    "with open(\"kata_append1.csv\", \"w\") as wf:\n",
    "    csvwriter = csv.writer(wf, delimiter='\\t')\n",
    "    csvwriter.writerows(appends_sub)\n",
    "print(\"ok\")"
   ]
  },
  {
   "cell_type": "code",
   "execution_count": 106,
   "id": "neutral-pathology",
   "metadata": {},
   "outputs": [
    {
     "name": "stdout",
     "output_type": "stream",
     "text": [
      "6293\n",
      "[['ぺーぺー', 'underling', 'AH1_N_D_ER0_L_IH0_NG', 'newbie', 'N_UW1_B_IY2', 'small|fry', 'S_M_AO1_L|F_R_AY1', 'newcomer', 'N_UW1_K_AH2_M_ER0'], ['ア', 'ah', 'AA1', 'oh', 'OW1'], ['アー', 'yes', 'Y_EH1_S', 'indeed', 'IH2_N_D_IY1_D', 'that|is|correct', 'DH_AE1_T|IH1_Z|K_ER0_EH1_K_T', 'aah', 'AA1', 'argh', 'AA1_R_G', 'uh|huh', 'AH1|HH_AH1', 'yeah|yeah', 'Y_AE1|Y_AE1', 'right', 'R_AY1_T', 'gotcha', 'G_AA1_CH_AH0'], ['アークランプ', 'arc|lamp', 'AA1_R_K|L_AE1_M_P', 'arc|light', 'AA1_R_K|L_AY1_T'], ['アーシング', 'grounding', 'G_R_AW1_N_D_IH0_NG'], ['アースカラー', 'earth|color', 'ER1_TH|K_AH1_L_ER0', 'earth|colour', 'ER1_TH|K_AH1_L_ER0'], ['アースバンド', 'earth|band', 'ER1_TH|B_AE1_N_D', 'earth|strap', 'ER1_TH|S_T_R_AE1_P', 'strap|snug', 'S_T_R_AE1_P|S_N_AH1_G'], ['アースライン', 'ground|line', 'G_R_AW1_N_D|L_AY1_N', 'earth|line', 'ER1_TH|L_AY1_N'], ['アーティスティックスイミング', 'artistic|swimming', 'AA0_R_T_IH1_S_T_IH0_K|S_W_IH1_M_IH0_NG', 'synchronized|swimming', 'S_IH1_NG_K_R_AH0_N_AY2_Z_D|S_W_IH1_M_IH0_NG'], ['アートシアター', 'art|theater', 'AA1_R_T|TH_IY1_EY0_T_ER0', 'art|theatre', 'AA1_R_T|TH_IY1_AH0_T_ER0']]\n"
     ]
    }
   ],
   "source": [
    "appends1_sub=[]\n",
    "for i in append_sub11:\n",
    "    ii=[]\n",
    "    ii.append(i[0])\n",
    "    for j in i[1]:\n",
    "        ii.append(\"|\".join(j))\n",
    "    appends1_sub.append(ii)\n",
    "print(len(appends1_sub))\n",
    "print(appends1_sub[:10])"
   ]
  },
  {
   "cell_type": "code",
   "execution_count": 109,
   "id": "distinguished-edgar",
   "metadata": {},
   "outputs": [
    {
     "name": "stdout",
     "output_type": "stream",
     "text": [
      "ok\n"
     ]
    }
   ],
   "source": [
    "with open(\"kata_append2.csv\", \"w\") as kf:\n",
    "    csvwriter = csv.writer(kf, delimiter='\\t')\n",
    "    csvwriter.writerows(appends1_sub)\n",
    "print(\"ok\")"
   ]
  },
  {
   "cell_type": "code",
   "execution_count": null,
   "id": "negative-cincinnati",
   "metadata": {},
   "outputs": [],
   "source": []
  }
 ],
 "metadata": {
  "kernelspec": {
   "display_name": "Python 3",
   "language": "python",
   "name": "python3"
  },
  "language_info": {
   "codemirror_mode": {
    "name": "ipython",
    "version": 3
   },
   "file_extension": ".py",
   "mimetype": "text/x-python",
   "name": "python",
   "nbconvert_exporter": "python",
   "pygments_lexer": "ipython3",
   "version": "3.8.5"
  }
 },
 "nbformat": 4,
 "nbformat_minor": 5
}
