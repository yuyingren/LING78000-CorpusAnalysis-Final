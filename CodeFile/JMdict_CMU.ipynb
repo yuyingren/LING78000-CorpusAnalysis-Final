{
 "cells": [
  {
   "cell_type": "code",
   "execution_count": 1,
   "id": "ancient-bookmark",
   "metadata": {},
   "outputs": [],
   "source": [
    "### read the JM katakana dictionary\n",
    "### kata_list contains 3 columns: the katakana words; their English gloss are whether in the 2nd or 3rd column\n",
    "\n",
    "kata_list=[]\n",
    "with open(\"katakana_dict.csv\", \"r\", encoding=\"utf-8\") as katafile:\n",
    "    for i in katafile:\n",
    "        l=[]\n",
    "        line = i.rstrip().split(\"\\t\")\n",
    "        l.append(line[0])\n",
    "        l.append(line[2])\n",
    "        l.append(line[3])\n",
    "        kata_list.append(l)"
   ]
  },
  {
   "cell_type": "code",
   "execution_count": 2,
   "id": "informed-hungary",
   "metadata": {},
   "outputs": [
    {
     "name": "stdout",
     "output_type": "stream",
     "text": [
      "24503\n",
      "[['アーカイバ', 'NA', 'archiver'], ['アーカイバー', 'NA', 'archiver'], ['アーカイブ', 'NA', 'archive'], ['アーカイヴ', 'NA', 'archive'], ['アーガイル', 'NA', 'argyle'], ['アーガル', 'NA', 'argyle'], ['アーキテクチャ', 'NA', 'architecture'], ['アーキテクチャー', 'NA', 'architecture'], ['アーキテクチュア', 'NA', 'architecture'], ['アキテクチャ', 'NA', 'architecture'], ['アーギュメント', 'NA', 'argument'], ['アーク', 'NA', 'arc'], ['アーケード', 'NA', 'arcade'], ['アーケイド', 'NA', 'arcade'], ['アース', 'NA', 'earth'], ['アーチ', 'NA', 'arch'], ['アーチェリー', 'NA', 'archery'], ['アーチェリ', 'NA', 'archery'], ['アーチザン', 'NA', 'artisan']]\n"
     ]
    }
   ],
   "source": [
    "print(len(kata_list))\n",
    "# print(kata_list[1:20])"
   ]
  },
  {
   "cell_type": "code",
   "execution_count": 3,
   "id": "union-ocean",
   "metadata": {},
   "outputs": [],
   "source": [
    "### First deal with the words that has the gloss in the 2nd column\n",
    "extr=[]\n",
    "for i in kata_list[1:]:\n",
    "    if i[1] != \"NA\":\n",
    "        extr.append(i)\n",
    "        "
   ]
  },
  {
   "cell_type": "code",
   "execution_count": 4,
   "id": "informed-newton",
   "metadata": {},
   "outputs": [
    {
     "name": "stdout",
     "output_type": "stream",
     "text": [
      "1825\n",
      "[['アーベント', 'Abend', 'evening'], ['アーレ', 'Ar', 'measure of area'], ['アイス', 'ice', 'ice'], ['アイス', 'Eis', 'ice'], ['アイスハーケン', 'Eishaken', 'ice piton'], ['アイスバーン', 'Eisbahn', 'icy road'], ['アイゼン', 'Eisen', 'metal pins of climbing shoes'], ['アイメイト', 'eye mate', 'seeing-eye dog'], ['アイメート', 'eye mate', 'seeing-eye dog'], ['アウタルキー', 'Autarkie', 'autarchy'], ['アウテリア', 'outerior', 'exterior'], ['アウトバーン', 'Autobahn', 'autobahn'], ['アクサングラーブ', 'accent grave', '\"\"\"grave\"\" accent\"'], ['アクセソワリスト', 'accessoiriste', 'props assistant'], ['アクメ', 'acmé', 'orgasm'], ['アゲンスト', 'against', 'head wind'], ['アゲインスト', 'against', 'head wind'], ['アゲィンスト', 'against', 'head wind'], ['アジト', 'agitating point', 'hideout'], ['アジト', 'agitpunkt', 'hideout']]\n"
     ]
    }
   ],
   "source": [
    "### regulate the format of English words\n",
    "\n",
    "import unidecode\n",
    "print(len(extr))\n",
    "# print(extr[:20])\n",
    "extra=[]\n",
    "for i in extr:\n",
    "    ii=[]\n",
    "    ii.append(i[0])\n",
    "    ii.append(unidecode.unidecode(i[1]).casefold())\n",
    "    ii.append(i[2])\n",
    "    extra.append(ii)\n",
    "    "
   ]
  },
  {
   "cell_type": "code",
   "execution_count": 5,
   "id": "joint-timber",
   "metadata": {},
   "outputs": [
    {
     "name": "stdout",
     "output_type": "stream",
     "text": [
      "1825\n",
      "[['アーベント', 'abend', 'evening'], ['アーレ', 'ar', 'measure of area'], ['アイス', 'ice', 'ice'], ['アイス', 'eis', 'ice'], ['アイスハーケン', 'eishaken', 'ice piton'], ['アイスバーン', 'eisbahn', 'icy road'], ['アイゼン', 'eisen', 'metal pins of climbing shoes'], ['アイメイト', 'eye mate', 'seeing-eye dog'], ['アイメート', 'eye mate', 'seeing-eye dog'], ['アウタルキー', 'autarkie', 'autarchy'], ['アウテリア', 'outerior', 'exterior'], ['アウトバーン', 'autobahn', 'autobahn'], ['アクサングラーブ', 'accent grave', '\"\"\"grave\"\" accent\"'], ['アクセソワリスト', 'accessoiriste', 'props assistant'], ['アクメ', 'acme', 'orgasm'], ['アゲンスト', 'against', 'head wind'], ['アゲインスト', 'against', 'head wind'], ['アゲィンスト', 'against', 'head wind'], ['アジト', 'agitating point', 'hideout'], ['アジト', 'agitpunkt', 'hideout']]\n"
     ]
    }
   ],
   "source": [
    "print(len(extra))\n",
    "# print(extra[:20])"
   ]
  },
  {
   "cell_type": "code",
   "execution_count": 11,
   "id": "accredited-dividend",
   "metadata": {},
   "outputs": [],
   "source": [
    "### seperate the word list by the number of English words in their gloss\n",
    "\n",
    "single=[] #katakana words equal to single english word \n",
    "multi=[] #katakana words equal to multiple english words(phrase with multiple words) \n",
    "two=[] #katakana words equal to two english words(two words phrase)\n",
    "for i in extra:\n",
    "    if \",\" not in i[1]:\n",
    "        single.append(i)\n",
    "    if \",\" in i[1]:\n",
    "        multi.append(i)\n",
    "for i in single:\n",
    "    if \" \" in i[1]:\n",
    "        two.append(i)"
   ]
  },
  {
   "cell_type": "code",
   "execution_count": 12,
   "id": "fitted-franchise",
   "metadata": {},
   "outputs": [
    {
     "name": "stdout",
     "output_type": "stream",
     "text": [
      "6\n",
      "1819\n",
      "224\n",
      "1595\n"
     ]
    }
   ],
   "source": [
    "print(len(multi))\n",
    "print(len(single))\n",
    "print(len(two))\n",
    "one = []\n",
    "for i in single:\n",
    "    if i not in two:\n",
    "        one.append(i)\n",
    "print(len(one))"
   ]
  },
  {
   "cell_type": "code",
   "execution_count": 13,
   "id": "round-figure",
   "metadata": {},
   "outputs": [
    {
     "name": "stdout",
     "output_type": "stream",
     "text": [
      "[['アーベント', 'abend', 'evening'], ['アーレ', 'ar', 'measure of area'], ['アイス', 'ice', 'ice'], ['アイス', 'eis', 'ice'], ['アイスハーケン', 'eishaken', 'ice piton'], ['アイスバーン', 'eisbahn', 'icy road'], ['アイゼン', 'eisen', 'metal pins of climbing shoes'], ['アウタルキー', 'autarkie', 'autarchy'], ['アウテリア', 'outerior', 'exterior'], ['アウトバーン', 'autobahn', 'autobahn'], ['アクセソワリスト', 'accessoiriste', 'props assistant'], ['アクメ', 'acme', 'orgasm'], ['アゲンスト', 'against', 'head wind'], ['アゲインスト', 'against', 'head wind'], ['アゲィンスト', 'against', 'head wind'], ['アジト', 'agitpunkt', 'hideout'], ['アスピーテ', 'aspite', 'aspite'], ['アスピリン', 'aspirin', 'aspirin'], ['アスベスト', 'asbest', 'asbestos'], ['アップ', 'up', 'increasing']]\n"
     ]
    }
   ],
   "source": [
    "one_sub=[]\n",
    "for i in one:\n",
    "    ii=[]\n",
    "    ii.append(i[0])\n",
    "    ii.append(i[1])\n",
    "    ii.append(i[2])\n",
    "    one_sub.append(ii)\n",
    "print(one_sub[:20])"
   ]
  },
  {
   "cell_type": "code",
   "execution_count": 130,
   "id": "centered-stick",
   "metadata": {},
   "outputs": [
    {
     "name": "stdout",
     "output_type": "stream",
     "text": [
      "1595\n"
     ]
    }
   ],
   "source": [
    "print(len(one_sub))"
   ]
  },
  {
   "cell_type": "code",
   "execution_count": 14,
   "id": "inner-symbol",
   "metadata": {},
   "outputs": [
    {
     "name": "stdout",
     "output_type": "stream",
     "text": [
      "[['アマン', ['amant', 'amante'], 'lover'], ['アミ', ['ami', 'amie'], 'friend'], ['アンドゥトロワ', ['un', 'deux', 'trois'], 'one, two, three'], ['コーポラス', ['corporate house', 'cooperative house'], 'apartment building'], ['プルダック', ['buldak', 'puldak'], 'buldak'], ['ロコ', ['loco', 'local'], 'person born in Hawaii']]\n"
     ]
    }
   ],
   "source": [
    "# print(multi)\n",
    "multi_sub =[]\n",
    "for i in multi:\n",
    "    ii=[]\n",
    "    i1=i[1].split(\", \")\n",
    "    ii.append(i[0])\n",
    "    ii.append(i1)\n",
    "    ii.append(i[2])\n",
    "    multi_sub.append(ii)\n",
    "# print(multi_sub)\n"
   ]
  },
  {
   "cell_type": "code",
   "execution_count": 15,
   "id": "imported-death",
   "metadata": {},
   "outputs": [],
   "source": [
    "multi_sub = [['アマン', ['amante'], 'lover'], \n",
    "             ['アミ', ['ami'], 'friend'], \n",
    "             ['アンドゥトロワ', ['un', 'deux', 'trois'], 'one, two, three'], \n",
    "             ['コーポラス', ['corporate', 'house'], 'apartmet building'], \n",
    "             ['ロコ', ['loco'], 'person born in Hawaii']]"
   ]
  },
  {
   "cell_type": "code",
   "execution_count": 1,
   "id": "arctic-reader",
   "metadata": {
    "scrolled": true
   },
   "outputs": [
    {
     "ename": "NameError",
     "evalue": "name 'two' is not defined",
     "output_type": "error",
     "traceback": [
      "\u001b[0;31m---------------------------------------------------------------------------\u001b[0m",
      "\u001b[0;31mNameError\u001b[0m                                 Traceback (most recent call last)",
      "\u001b[0;32m<ipython-input-1-d5c723a78580>\u001b[0m in \u001b[0;36m<module>\u001b[0;34m\u001b[0m\n\u001b[1;32m      1\u001b[0m \u001b[0mtwo_sub\u001b[0m\u001b[0;34m=\u001b[0m\u001b[0;34m[\u001b[0m\u001b[0;34m]\u001b[0m\u001b[0;34m\u001b[0m\u001b[0;34m\u001b[0m\u001b[0m\n\u001b[0;32m----> 2\u001b[0;31m \u001b[0;32mfor\u001b[0m \u001b[0mi\u001b[0m \u001b[0;32min\u001b[0m \u001b[0mtwo\u001b[0m\u001b[0;34m:\u001b[0m\u001b[0;34m\u001b[0m\u001b[0;34m\u001b[0m\u001b[0m\n\u001b[0m\u001b[1;32m      3\u001b[0m     \u001b[0mii\u001b[0m\u001b[0;34m=\u001b[0m\u001b[0;34m[\u001b[0m\u001b[0;34m]\u001b[0m\u001b[0;34m\u001b[0m\u001b[0;34m\u001b[0m\u001b[0m\n\u001b[1;32m      4\u001b[0m     \u001b[0mi1\u001b[0m\u001b[0;34m=\u001b[0m\u001b[0mi\u001b[0m\u001b[0;34m[\u001b[0m\u001b[0;36m1\u001b[0m\u001b[0;34m]\u001b[0m\u001b[0;34m.\u001b[0m\u001b[0msplit\u001b[0m\u001b[0;34m(\u001b[0m\u001b[0;34m\" \"\u001b[0m\u001b[0;34m)\u001b[0m\u001b[0;34m\u001b[0m\u001b[0;34m\u001b[0m\u001b[0m\n\u001b[1;32m      5\u001b[0m     \u001b[0mii\u001b[0m\u001b[0;34m.\u001b[0m\u001b[0mappend\u001b[0m\u001b[0;34m(\u001b[0m\u001b[0mi\u001b[0m\u001b[0;34m[\u001b[0m\u001b[0;36m0\u001b[0m\u001b[0;34m]\u001b[0m\u001b[0;34m)\u001b[0m\u001b[0;34m\u001b[0m\u001b[0;34m\u001b[0m\u001b[0m\n",
      "\u001b[0;31mNameError\u001b[0m: name 'two' is not defined"
     ]
    }
   ],
   "source": [
    "two_sub=[]\n",
    "for i in two:\n",
    "    ii=[]\n",
    "    i1=i[1].split(\" \")\n",
    "    ii.append(i[0])\n",
    "    ii.append(i1)\n",
    "    ii.append(i[2])\n",
    "    two_sub.append(ii)\n",
    "print(len(two_sub))\n",
    "# print(two_sub)"
   ]
  },
  {
   "cell_type": "code",
   "execution_count": 18,
   "id": "directed-galaxy",
   "metadata": {},
   "outputs": [],
   "source": [
    "#### read and organize the format of CMU dictionary\n",
    "\n",
    "eng_list=[]\n",
    "with open(\"cmudict.txt\", \"r\", encoding='latin-1') as cmufile:\n",
    "    for i in cmufile:\n",
    "        l=i.rstrip()\n",
    "        eng_list.append(l)\n",
    "        "
   ]
  },
  {
   "cell_type": "code",
   "execution_count": 19,
   "id": "beneficial-weekend",
   "metadata": {},
   "outputs": [
    {
     "name": "stdout",
     "output_type": "stream",
     "text": [
      "134294\n",
      "['AA  EY2 EY1', 'AAA  T R IH2 P AH0 L EY1', 'AAAI  T R IH2 P AH0 L EY2 AY1', 'AABERG  AA1 B ER0 G', 'AACHEN  AA1 K AH0 N', 'AACHENER  AA1 K AH0 N ER0', 'AAH  AA1', 'AAKER  AA1 K ER0', 'AALIYAH  AA2 L IY1 AA2', 'AALSETH  AA1 L S EH0 TH', 'AAMODT  AA1 M AH0 T', 'AANCOR  AA1 N K AO2 R', 'AARDEMA  AA0 R D EH1 M AH0', 'AARDVARK  AA1 R D V AA2 R K', 'AARDVARKS  AA1 R D V AA2 R K S', 'AARGH  AA1 R G', 'AARHUS  AA2 HH UW1 S', 'AARON  EH1 R AH0 N', \"AARON'S  EH1 R AH0 N Z\", 'AARONS  EH1 R AH0 N Z']\n"
     ]
    }
   ],
   "source": [
    "print(len(eng_list))\n",
    "# print(eng_list[:20])"
   ]
  },
  {
   "cell_type": "code",
   "execution_count": 3,
   "id": "frank-council",
   "metadata": {},
   "outputs": [
    {
     "ename": "NameError",
     "evalue": "name 'eng_list' is not defined",
     "output_type": "error",
     "traceback": [
      "\u001b[0;31m---------------------------------------------------------------------------\u001b[0m",
      "\u001b[0;31mNameError\u001b[0m                                 Traceback (most recent call last)",
      "\u001b[0;32m<ipython-input-3-0b48e37bf25a>\u001b[0m in \u001b[0;36m<module>\u001b[0;34m\u001b[0m\n\u001b[1;32m      3\u001b[0m \u001b[0men_words\u001b[0m\u001b[0;34m=\u001b[0m\u001b[0;34m[\u001b[0m\u001b[0;34m]\u001b[0m\u001b[0;34m\u001b[0m\u001b[0;34m\u001b[0m\u001b[0m\n\u001b[1;32m      4\u001b[0m \u001b[0mpr\u001b[0m\u001b[0;34m=\u001b[0m\u001b[0;34m[\u001b[0m\u001b[0;34m]\u001b[0m\u001b[0;34m\u001b[0m\u001b[0;34m\u001b[0m\u001b[0m\n\u001b[0;32m----> 5\u001b[0;31m \u001b[0;32mfor\u001b[0m \u001b[0mi\u001b[0m \u001b[0;32min\u001b[0m \u001b[0meng_list\u001b[0m\u001b[0;34m:\u001b[0m\u001b[0;34m\u001b[0m\u001b[0;34m\u001b[0m\u001b[0m\n\u001b[0m\u001b[1;32m      6\u001b[0m     \u001b[0mii\u001b[0m\u001b[0;34m=\u001b[0m\u001b[0mi\u001b[0m\u001b[0;34m.\u001b[0m\u001b[0msplit\u001b[0m\u001b[0;34m(\u001b[0m\u001b[0;34m\"  \"\u001b[0m\u001b[0;34m)\u001b[0m\u001b[0;34m\u001b[0m\u001b[0;34m\u001b[0m\u001b[0m\n\u001b[1;32m      7\u001b[0m     \u001b[0men_words\u001b[0m\u001b[0;34m.\u001b[0m\u001b[0mappend\u001b[0m\u001b[0;34m(\u001b[0m\u001b[0mii\u001b[0m\u001b[0;34m[\u001b[0m\u001b[0;36m0\u001b[0m\u001b[0;34m]\u001b[0m\u001b[0;34m.\u001b[0m\u001b[0mcasefold\u001b[0m\u001b[0;34m(\u001b[0m\u001b[0;34m)\u001b[0m\u001b[0;34m)\u001b[0m\u001b[0;34m\u001b[0m\u001b[0;34m\u001b[0m\u001b[0m\n",
      "\u001b[0;31mNameError\u001b[0m: name 'eng_list' is not defined"
     ]
    }
   ],
   "source": [
    "#### sepearte the words and their pronunciations into two lists\n",
    "#### And convert them to a dictionary\n",
    "en_words=[]\n",
    "pr=[]\n",
    "for i in eng_list:\n",
    "    ii=i.split(\"  \")\n",
    "    en_words.append(ii[0].casefold())\n",
    "    j=re.sub(\" \", \"_\", ii[1])\n",
    "    pr.append(j)\n",
    "    \n",
    "print(en_words[:20])\n",
    "print(len(en_words))\n",
    "print(len(pr))\n",
    "\n",
    "\n",
    "pron_dict=dict(list(zip(en_words,pr)))\n",
    "print(len(pron_dict))\n",
    "\n"
   ]
  },
  {
   "cell_type": "code",
   "execution_count": 22,
   "id": "removed-homework",
   "metadata": {},
   "outputs": [],
   "source": [
    "#### This step is to make sure: for every word in the katakana vocab, that their every word in their English gloss canbe found a pronunciation in the CMU dict. \n",
    "overlap=[]\n",
    "notfound=[]\n",
    "for i in two_sub:\n",
    "    chek=[j in en_words for j in i[1]]\n",
    "    if all(chek) == True:\n",
    "        overlap.append(i)\n",
    "    if all(chek) == False:\n",
    "        notfound.append(i)"
   ]
  },
  {
   "cell_type": "code",
   "execution_count": 4,
   "id": "federal-officer",
   "metadata": {},
   "outputs": [
    {
     "ename": "NameError",
     "evalue": "name 'overlap' is not defined",
     "output_type": "error",
     "traceback": [
      "\u001b[0;31m---------------------------------------------------------------------------\u001b[0m",
      "\u001b[0;31mNameError\u001b[0m                                 Traceback (most recent call last)",
      "\u001b[0;32m<ipython-input-4-0877277bfa56>\u001b[0m in \u001b[0;36m<module>\u001b[0;34m\u001b[0m\n\u001b[0;32m----> 1\u001b[0;31m \u001b[0mprint\u001b[0m\u001b[0;34m(\u001b[0m\u001b[0mlen\u001b[0m\u001b[0;34m(\u001b[0m\u001b[0moverlap\u001b[0m\u001b[0;34m)\u001b[0m\u001b[0;34m)\u001b[0m\u001b[0;34m\u001b[0m\u001b[0;34m\u001b[0m\u001b[0m\n\u001b[0m\u001b[1;32m      2\u001b[0m \u001b[0;31m# print(notfound)\u001b[0m\u001b[0;34m\u001b[0m\u001b[0;34m\u001b[0m\u001b[0;34m\u001b[0m\u001b[0m\n\u001b[1;32m      3\u001b[0m \u001b[0mprint\u001b[0m\u001b[0;34m(\u001b[0m\u001b[0mlen\u001b[0m\u001b[0;34m(\u001b[0m\u001b[0mnotfound\u001b[0m\u001b[0;34m)\u001b[0m\u001b[0;34m)\u001b[0m\u001b[0;34m\u001b[0m\u001b[0;34m\u001b[0m\u001b[0m\n",
      "\u001b[0;31mNameError\u001b[0m: name 'overlap' is not defined"
     ]
    }
   ],
   "source": [
    "print(len(overlap))\n",
    "# print(notfound)\n",
    "# print(len(notfound))"
   ]
  },
  {
   "cell_type": "code",
   "execution_count": 24,
   "id": "cathedral-blood",
   "metadata": {},
   "outputs": [
    {
     "name": "stdout",
     "output_type": "stream",
     "text": [
      "168\n",
      "62\n"
     ]
    }
   ],
   "source": [
    "for i in multi_sub:\n",
    "    overlap.append(i)\n",
    "print(len(overlap))\n",
    "# notfound.append(['プルダック', ['buldak', 'puldak'], 'buldak'])\n",
    "# print(len(notfound))"
   ]
  },
  {
   "cell_type": "code",
   "execution_count": 25,
   "id": "proof-iraqi",
   "metadata": {},
   "outputs": [],
   "source": [
    "overlap1=[]\n",
    "notfound1=[]\n",
    "for i in one_sub:\n",
    "    if i[1] in en_words:\n",
    "        overlap1.append(i)\n",
    "    if i[1] not in en_words:\n",
    "        notfound1.append(i)"
   ]
  },
  {
   "cell_type": "code",
   "execution_count": 26,
   "id": "pleased-traveler",
   "metadata": {},
   "outputs": [
    {
     "name": "stdout",
     "output_type": "stream",
     "text": [
      "439\n",
      "1156\n"
     ]
    }
   ],
   "source": [
    "print(len(overlap1))\n",
    "# print(len(notfound1))"
   ]
  },
  {
   "cell_type": "code",
   "execution_count": 28,
   "id": "shaped-inflation",
   "metadata": {},
   "outputs": [
    {
     "name": "stdout",
     "output_type": "stream",
     "text": [
      "607\n",
      "1218\n"
     ]
    }
   ],
   "source": [
    "### This is the \n",
    "new_list=overlap+overlap1\n",
    "print(len(new_list))\n",
    "# n_notfound=notfound+notfound1\n",
    "# print(len(n_notfound))"
   ]
  },
  {
   "cell_type": "code",
   "execution_count": 5,
   "id": "major-diagnosis",
   "metadata": {},
   "outputs": [],
   "source": [
    "# notfound_sub=[]\n",
    "# for i in notfound:\n",
    "#     ii=[]\n",
    "#     ii.append(i[0])\n",
    "#     ls=\"|\".join(i[1])\n",
    "#     ii.append(ls)\n",
    "#     ii.append(i[2])\n",
    "#     notfound_sub.append(ii)\n",
    "# print(len(notfound_sub))\n",
    "# print(notfound_sub[:10])"
   ]
  },
  {
   "cell_type": "code",
   "execution_count": 30,
   "id": "pleased-security",
   "metadata": {},
   "outputs": [
    {
     "name": "stdout",
     "output_type": "stream",
     "text": [
      "22677\n"
     ]
    }
   ],
   "source": [
    "### Now, start to deal with the words has their gloss in the 3rd column\n",
    "\n",
    "normal=[]\n",
    "for i in kata_list[1:]:\n",
    "    if i[1] == \"NA\":\n",
    "        normal.append(i)\n",
    "print(len(normal))"
   ]
  },
  {
   "cell_type": "code",
   "execution_count": 61,
   "id": "manual-implement",
   "metadata": {},
   "outputs": [],
   "source": [
    "### remove the punctuations in the data\n",
    "\n",
    "import re\n",
    "normal_sub=[]\n",
    "for i in normal:\n",
    "    ii=[]\n",
    "    ii.append(i[0])\n",
    "    ii.append(i[1])\n",
    "    g= re.sub(\"-\", \" \", i[2])\n",
    "    gg=re.sub('\"', \"\", g)\n",
    "    ii.append(gg.casefold())\n",
    "    normal_sub.append(ii)\n",
    "    \n",
    "    "
   ]
  },
  {
   "cell_type": "code",
   "execution_count": 62,
   "id": "injured-antique",
   "metadata": {},
   "outputs": [
    {
     "name": "stdout",
     "output_type": "stream",
     "text": [
      "22677\n",
      "['アイボリーホワイト', 'NA', 'ivory white']\n",
      "['イット', 'NA', 'it']\n"
     ]
    }
   ],
   "source": [
    "print(len(normal_sub))\n"
   ]
  },
  {
   "cell_type": "code",
   "execution_count": 63,
   "id": "thick-century",
   "metadata": {},
   "outputs": [
    {
     "name": "stdout",
     "output_type": "stream",
     "text": [
      "3637\n",
      "19040\n"
     ]
    }
   ],
   "source": [
    "#### same with the previous part: seperate the split the list by the number of words in their English gloss\n",
    "mult=[]\n",
    "sing=[]\n",
    "for i in normal_sub:\n",
    "    if \" \" in i[2]:\n",
    "        mult.append(i)\n",
    "    if \" \" not in i[2]:\n",
    "        sing.append(i)\n",
    "print(len(mult))\n",
    "print(len(sing))"
   ]
  },
  {
   "cell_type": "code",
   "execution_count": 92,
   "id": "mineral-glossary",
   "metadata": {},
   "outputs": [
    {
     "name": "stdout",
     "output_type": "stream",
     "text": [
      "2781\n",
      "544\n",
      "138\n",
      "174\n"
     ]
    }
   ],
   "source": [
    "#### Also, split the words that have multiple words in the gloss into two; three, four, five words\n",
    "\n",
    "er=[] # katakana words equal to two english words\n",
    "san=[] # katakana words equal to three english words\n",
    "si=[] # katakana words equal to four english words\n",
    "wu=[] # katakana words equal to five english words\n",
    "\n",
    "for i in mult:\n",
    "    j=i[2].split(\" \")\n",
    "    if len(j) ==2:\n",
    "        err=[]\n",
    "        err.append(i[0])\n",
    "        err.append(i[1])\n",
    "        err.append(j)\n",
    "        er.append(err)\n",
    "    if len(j)==3:\n",
    "        sann=[]\n",
    "        sann.append(i[0])\n",
    "        sann.append(i[1])\n",
    "        sann.append(j)\n",
    "        san.append(sann)\n",
    "    if len(j)==4:\n",
    "        sii=[]\n",
    "        sii.append(i[0])\n",
    "        sii.append(i[1])\n",
    "        sii.append(j)\n",
    "        si.append(sii)\n",
    "    if len(j)>=5:\n",
    "        wuu=[]\n",
    "        wuu.append(i[0])\n",
    "        wuu.append(i[1])\n",
    "        wuu.append(j)\n",
    "        wu.append(wuu)\n",
    "print(len(er))\n",
    "print(len(san))\n",
    "print(len(si))\n",
    "print(len(wu))"
   ]
  },
  {
   "cell_type": "code",
   "execution_count": 94,
   "id": "personal-affect",
   "metadata": {},
   "outputs": [],
   "source": [
    "#### Again, make sure that every English word is in the the CMU dicitonary(that can found a pronunciation)\n",
    "\n",
    "overlap2=[]\n",
    "notfound2=[]\n",
    "for i in er:\n",
    "    chek=[j in en_words for j in i[2]]\n",
    "    if all(chek) == True:\n",
    "        overlap2.append(i)\n",
    "    if all(chek) == False:\n",
    "        notfound2.append(i)"
   ]
  },
  {
   "cell_type": "code",
   "execution_count": 95,
   "id": "twenty-maximum",
   "metadata": {},
   "outputs": [
    {
     "name": "stdout",
     "output_type": "stream",
     "text": [
      "1923\n",
      "858\n"
     ]
    }
   ],
   "source": [
    "print(len(overlap2))\n",
    "# print(len(notfound2))"
   ]
  },
  {
   "cell_type": "code",
   "execution_count": 99,
   "id": "equipped-machinery",
   "metadata": {},
   "outputs": [],
   "source": [
    "overlap3=[]\n",
    "notfound3=[]\n",
    "for i in san:\n",
    "    chek=[j in en_words for j in i[2]]\n",
    "    if all(chek) == True:\n",
    "        overlap3.append(i)\n",
    "    if all(chek) == False:\n",
    "        notfound3.append(i)"
   ]
  },
  {
   "cell_type": "code",
   "execution_count": 138,
   "id": "temporal-clause",
   "metadata": {},
   "outputs": [
    {
     "name": "stdout",
     "output_type": "stream",
     "text": [
      "202\n"
     ]
    }
   ],
   "source": [
    "# print(len(notfound3))"
   ]
  },
  {
   "cell_type": "code",
   "execution_count": 134,
   "id": "vocal-olive",
   "metadata": {},
   "outputs": [
    {
     "name": "stdout",
     "output_type": "stream",
     "text": [
      "1372\n"
     ]
    }
   ],
   "source": [
    "# print(len(overlap3))\n",
    "# print(len(notfound3))\n",
    "# print(notfound3[:10])\n",
    "# print(notfound2[:10])\n",
    "# notfound5=notfound2+notfound3+si+wu\n",
    "# print(len(notfound5))\n",
    "\n",
    "# for i in notfound5:\n",
    "#     ii=[]\n",
    "#     ii.append(i[0])\n",
    "#     ii.append(i[1])\n",
    "#     g=\"|\".join(i[2])\n",
    "#     ii.append(g)\n",
    "#     notfound_sub.append(ii)"
   ]
  },
  {
   "cell_type": "code",
   "execution_count": 135,
   "id": "identical-bidder",
   "metadata": {},
   "outputs": [
    {
     "name": "stdout",
     "output_type": "stream",
     "text": [
      "1434\n"
     ]
    }
   ],
   "source": [
    "# print(len(notfound_sub))"
   ]
  },
  {
   "cell_type": "code",
   "execution_count": 6,
   "id": "enclosed-astronomy",
   "metadata": {},
   "outputs": [
    {
     "ename": "NameError",
     "evalue": "name 'overlap3' is not defined",
     "output_type": "error",
     "traceback": [
      "\u001b[0;31m---------------------------------------------------------------------------\u001b[0m",
      "\u001b[0;31mNameError\u001b[0m                                 Traceback (most recent call last)",
      "\u001b[0;32m<ipython-input-6-5999f7d4a02e>\u001b[0m in \u001b[0;36m<module>\u001b[0;34m\u001b[0m\n\u001b[1;32m      4\u001b[0m \u001b[0;34m\u001b[0m\u001b[0m\n\u001b[1;32m      5\u001b[0m \u001b[0msann\u001b[0m\u001b[0;34m=\u001b[0m\u001b[0;34m[\u001b[0m\u001b[0;34m]\u001b[0m\u001b[0;34m\u001b[0m\u001b[0;34m\u001b[0m\u001b[0m\n\u001b[0;32m----> 6\u001b[0;31m \u001b[0;32mfor\u001b[0m \u001b[0mi\u001b[0m \u001b[0;32min\u001b[0m \u001b[0moverlap3\u001b[0m\u001b[0;34m:\u001b[0m\u001b[0;34m\u001b[0m\u001b[0;34m\u001b[0m\u001b[0m\n\u001b[0m\u001b[1;32m      7\u001b[0m     \u001b[0mii\u001b[0m\u001b[0;34m=\u001b[0m\u001b[0;34m[\u001b[0m\u001b[0;34m]\u001b[0m\u001b[0;34m\u001b[0m\u001b[0;34m\u001b[0m\u001b[0m\n\u001b[1;32m      8\u001b[0m     \u001b[0mii\u001b[0m\u001b[0;34m.\u001b[0m\u001b[0mappend\u001b[0m\u001b[0;34m(\u001b[0m\u001b[0mi\u001b[0m\u001b[0;34m[\u001b[0m\u001b[0;36m0\u001b[0m\u001b[0;34m]\u001b[0m\u001b[0;34m)\u001b[0m\u001b[0;34m\u001b[0m\u001b[0;34m\u001b[0m\u001b[0m\n",
      "\u001b[0;31mNameError\u001b[0m: name 'overlap3' is not defined"
     ]
    }
   ],
   "source": [
    "#### In this part, add the pronunciations into the word list\n",
    "#### The list now becomes: [katakana; the English gloss; The CMU pronunciation of the English words in the gloss]\n",
    "\n",
    "\n",
    "sann=[]\n",
    "for i in overlap3:\n",
    "    ii=[]\n",
    "    ii.append(i[0])\n",
    "    ii.append(i[1])\n",
    "    ii.append(i[2])\n",
    "    pp=[]\n",
    "    for k in i[2]:\n",
    "        pp.append(pron_dict[k])\n",
    "    ii.append(pp)\n",
    "    sann.append(ii)\n",
    "# print(sann[:20])\n",
    "print(len(sann))"
   ]
  },
  {
   "cell_type": "code",
   "execution_count": 7,
   "id": "retained-harvest",
   "metadata": {
    "scrolled": true
   },
   "outputs": [
    {
     "ename": "NameError",
     "evalue": "name 'overlap2' is not defined",
     "output_type": "error",
     "traceback": [
      "\u001b[0;31m---------------------------------------------------------------------------\u001b[0m",
      "\u001b[0;31mNameError\u001b[0m                                 Traceback (most recent call last)",
      "\u001b[0;32m<ipython-input-7-5d9e433481fb>\u001b[0m in \u001b[0;36m<module>\u001b[0;34m\u001b[0m\n\u001b[1;32m      1\u001b[0m \u001b[0merr\u001b[0m\u001b[0;34m=\u001b[0m\u001b[0;34m[\u001b[0m\u001b[0;34m]\u001b[0m\u001b[0;34m\u001b[0m\u001b[0;34m\u001b[0m\u001b[0m\n\u001b[0;32m----> 2\u001b[0;31m \u001b[0;32mfor\u001b[0m \u001b[0mi\u001b[0m \u001b[0;32min\u001b[0m \u001b[0moverlap2\u001b[0m\u001b[0;34m:\u001b[0m\u001b[0;34m\u001b[0m\u001b[0;34m\u001b[0m\u001b[0m\n\u001b[0m\u001b[1;32m      3\u001b[0m     \u001b[0mii\u001b[0m\u001b[0;34m=\u001b[0m\u001b[0;34m[\u001b[0m\u001b[0;34m]\u001b[0m\u001b[0;34m\u001b[0m\u001b[0;34m\u001b[0m\u001b[0m\n\u001b[1;32m      4\u001b[0m     \u001b[0mii\u001b[0m\u001b[0;34m.\u001b[0m\u001b[0mappend\u001b[0m\u001b[0;34m(\u001b[0m\u001b[0mi\u001b[0m\u001b[0;34m[\u001b[0m\u001b[0;36m0\u001b[0m\u001b[0;34m]\u001b[0m\u001b[0;34m)\u001b[0m\u001b[0;34m\u001b[0m\u001b[0;34m\u001b[0m\u001b[0m\n\u001b[1;32m      5\u001b[0m     \u001b[0mii\u001b[0m\u001b[0;34m.\u001b[0m\u001b[0mappend\u001b[0m\u001b[0;34m(\u001b[0m\u001b[0mi\u001b[0m\u001b[0;34m[\u001b[0m\u001b[0;36m1\u001b[0m\u001b[0;34m]\u001b[0m\u001b[0;34m)\u001b[0m\u001b[0;34m\u001b[0m\u001b[0;34m\u001b[0m\u001b[0m\n",
      "\u001b[0;31mNameError\u001b[0m: name 'overlap2' is not defined"
     ]
    }
   ],
   "source": [
    "err=[]\n",
    "for i in overlap2:\n",
    "    ii=[]\n",
    "    ii.append(i[0])\n",
    "    ii.append(i[1])\n",
    "    ii.append(i[2])\n",
    "    pp=[]\n",
    "    for k in i[2]:\n",
    "        pp.append(pron_dict[k])\n",
    "    ii.append(pp)\n",
    "    err.append(ii)\n",
    "# print(err[:20])\n",
    "print(len(err))"
   ]
  },
  {
   "cell_type": "code",
   "execution_count": 8,
   "id": "banned-serbia",
   "metadata": {},
   "outputs": [
    {
     "ename": "NameError",
     "evalue": "name 'sing' is not defined",
     "output_type": "error",
     "traceback": [
      "\u001b[0;31m---------------------------------------------------------------------------\u001b[0m",
      "\u001b[0;31mNameError\u001b[0m                                 Traceback (most recent call last)",
      "\u001b[0;32m<ipython-input-8-4888724a862f>\u001b[0m in \u001b[0;36m<module>\u001b[0;34m\u001b[0m\n\u001b[1;32m      1\u001b[0m \u001b[0monee\u001b[0m\u001b[0;34m=\u001b[0m\u001b[0;34m[\u001b[0m\u001b[0;34m]\u001b[0m\u001b[0;34m\u001b[0m\u001b[0;34m\u001b[0m\u001b[0m\n\u001b[1;32m      2\u001b[0m \u001b[0mnotfound4\u001b[0m\u001b[0;34m=\u001b[0m\u001b[0;34m[\u001b[0m\u001b[0;34m]\u001b[0m\u001b[0;34m\u001b[0m\u001b[0;34m\u001b[0m\u001b[0m\n\u001b[0;32m----> 3\u001b[0;31m \u001b[0;32mfor\u001b[0m \u001b[0mi\u001b[0m \u001b[0;32min\u001b[0m \u001b[0msing\u001b[0m\u001b[0;34m:\u001b[0m\u001b[0;34m\u001b[0m\u001b[0;34m\u001b[0m\u001b[0m\n\u001b[0m\u001b[1;32m      4\u001b[0m     \u001b[0mi1\u001b[0m\u001b[0;34m=\u001b[0m\u001b[0;34m[\u001b[0m\u001b[0;34m]\u001b[0m\u001b[0;34m\u001b[0m\u001b[0;34m\u001b[0m\u001b[0m\n\u001b[1;32m      5\u001b[0m     \u001b[0mi2\u001b[0m\u001b[0;34m=\u001b[0m\u001b[0;34m[\u001b[0m\u001b[0;34m]\u001b[0m\u001b[0;34m\u001b[0m\u001b[0;34m\u001b[0m\u001b[0m\n",
      "\u001b[0;31mNameError\u001b[0m: name 'sing' is not defined"
     ]
    }
   ],
   "source": [
    "onee=[]\n",
    "notfound4=[]\n",
    "for i in sing:\n",
    "    i1=[]\n",
    "    i2=[]\n",
    "    \n",
    "    if i[2] in pron_dict:\n",
    "        i1.append(i[0])\n",
    "        i1.append(i[1])\n",
    "        i1.append(i[2])\n",
    "        i1.append(pron_dict[i[2]])\n",
    "        onee.append(i1)\n",
    "    if i[2] not in pron_dict:\n",
    "        i2.append(i[0])\n",
    "        i2.append(i[1])\n",
    "        i2.append(i[2])\n",
    "        notfound4.append(i2)"
   ]
  },
  {
   "cell_type": "code",
   "execution_count": 9,
   "id": "compressed-reader",
   "metadata": {},
   "outputs": [
    {
     "name": "stdout",
     "output_type": "stream",
     "text": [
      "0\n"
     ]
    }
   ],
   "source": [
    "print(len(onee))\n",
    "# print(onee[:10])\n",
    "# print(len(notfound4))"
   ]
  },
  {
   "cell_type": "code",
   "execution_count": 10,
   "id": "impressed-acceptance",
   "metadata": {},
   "outputs": [],
   "source": [
    "# notfounds=notfound1+notfound_sub+notfound4\n",
    "# print(len(notfounds))"
   ]
  },
  {
   "cell_type": "code",
   "execution_count": 11,
   "id": "bottom-steal",
   "metadata": {
    "scrolled": false
   },
   "outputs": [
    {
     "ename": "NameError",
     "evalue": "name 'overlap1' is not defined",
     "output_type": "error",
     "traceback": [
      "\u001b[0;31m---------------------------------------------------------------------------\u001b[0m",
      "\u001b[0;31mNameError\u001b[0m                                 Traceback (most recent call last)",
      "\u001b[0;32m<ipython-input-11-d1d7df3ddfe8>\u001b[0m in \u001b[0;36m<module>\u001b[0;34m\u001b[0m\n\u001b[1;32m      1\u001b[0m \u001b[0;31m#### remove the punctuations in the data\u001b[0m\u001b[0;34m\u001b[0m\u001b[0;34m\u001b[0m\u001b[0;34m\u001b[0m\u001b[0m\n\u001b[1;32m      2\u001b[0m \u001b[0;34m\u001b[0m\u001b[0m\n\u001b[0;32m----> 3\u001b[0;31m \u001b[0mprint\u001b[0m\u001b[0;34m(\u001b[0m\u001b[0mlen\u001b[0m\u001b[0;34m(\u001b[0m\u001b[0moverlap1\u001b[0m\u001b[0;34m)\u001b[0m\u001b[0;34m)\u001b[0m\u001b[0;34m\u001b[0m\u001b[0;34m\u001b[0m\u001b[0m\n\u001b[0m\u001b[1;32m      4\u001b[0m \u001b[0moverlap11\u001b[0m\u001b[0;34m=\u001b[0m\u001b[0;34m[\u001b[0m\u001b[0;34m]\u001b[0m\u001b[0;34m\u001b[0m\u001b[0;34m\u001b[0m\u001b[0m\n\u001b[1;32m      5\u001b[0m \u001b[0;32mfor\u001b[0m \u001b[0mi\u001b[0m \u001b[0;32min\u001b[0m \u001b[0moverlap1\u001b[0m\u001b[0;34m:\u001b[0m\u001b[0;34m\u001b[0m\u001b[0;34m\u001b[0m\u001b[0m\n",
      "\u001b[0;31mNameError\u001b[0m: name 'overlap1' is not defined"
     ]
    }
   ],
   "source": [
    "#### remove the punctuations in the data\n",
    "\n",
    "print(len(overlap1))\n",
    "overlap11=[]\n",
    "for i in overlap1:\n",
    "    ii=[]\n",
    "    ii.append(i[0])\n",
    "    ii.append(i[1])\n",
    "    g= re.sub(\"-\", \" \", i[2])\n",
    "    gg= re.sub('\"', \"\", i[2])\n",
    "    ii.append(gg)\n",
    "    ii.append(pron_dict[i[1]])\n",
    "    overlap11.append(ii)\n",
    "print(len(overlap11))\n",
    "# print(overlap11[:20])\n",
    "    "
   ]
  },
  {
   "cell_type": "code",
   "execution_count": 12,
   "id": "opposite-preserve",
   "metadata": {},
   "outputs": [
    {
     "ename": "NameError",
     "evalue": "name 'overlap' is not defined",
     "output_type": "error",
     "traceback": [
      "\u001b[0;31m---------------------------------------------------------------------------\u001b[0m",
      "\u001b[0;31mNameError\u001b[0m                                 Traceback (most recent call last)",
      "\u001b[0;32m<ipython-input-12-29219cb832ed>\u001b[0m in \u001b[0;36m<module>\u001b[0;34m\u001b[0m\n\u001b[0;32m----> 1\u001b[0;31m \u001b[0mprint\u001b[0m\u001b[0;34m(\u001b[0m\u001b[0mlen\u001b[0m\u001b[0;34m(\u001b[0m\u001b[0moverlap\u001b[0m\u001b[0;34m)\u001b[0m\u001b[0;34m)\u001b[0m\u001b[0;34m\u001b[0m\u001b[0;34m\u001b[0m\u001b[0m\n\u001b[0m\u001b[1;32m      2\u001b[0m \u001b[0moverlapp\u001b[0m\u001b[0;34m=\u001b[0m\u001b[0;34m[\u001b[0m\u001b[0;34m]\u001b[0m\u001b[0;34m\u001b[0m\u001b[0;34m\u001b[0m\u001b[0m\n\u001b[1;32m      3\u001b[0m \u001b[0;32mfor\u001b[0m \u001b[0mi\u001b[0m \u001b[0;32min\u001b[0m \u001b[0moverlap\u001b[0m\u001b[0;34m:\u001b[0m\u001b[0;34m\u001b[0m\u001b[0;34m\u001b[0m\u001b[0m\n\u001b[1;32m      4\u001b[0m     \u001b[0mii\u001b[0m\u001b[0;34m=\u001b[0m\u001b[0;34m[\u001b[0m\u001b[0;34m]\u001b[0m\u001b[0;34m\u001b[0m\u001b[0;34m\u001b[0m\u001b[0m\n\u001b[1;32m      5\u001b[0m     \u001b[0mpp\u001b[0m\u001b[0;34m=\u001b[0m\u001b[0;34m[\u001b[0m\u001b[0;34m]\u001b[0m\u001b[0;34m\u001b[0m\u001b[0;34m\u001b[0m\u001b[0m\n",
      "\u001b[0;31mNameError\u001b[0m: name 'overlap' is not defined"
     ]
    }
   ],
   "source": [
    "print(len(overlap))\n",
    "overlapp=[]\n",
    "for i in overlap:\n",
    "    ii=[]\n",
    "    pp=[]\n",
    "    ii.append(i[0])\n",
    "    ii.append(i[1])\n",
    "    g= re.sub(\"-\", \" \", i[2])\n",
    "    gg= re.sub('\"', \"\", i[2])\n",
    "    ii.append(gg)\n",
    "    for j in i[1]:\n",
    "        pp.append(pron_dict[j])\n",
    "    ii.append(pp)\n",
    "    overlapp.append(ii)\n",
    "print(len(overlapp))\n",
    "# print(overlapp[:20])\n",
    "    \n",
    "        "
   ]
  },
  {
   "cell_type": "code",
   "execution_count": 123,
   "id": "cellular-cartridge",
   "metadata": {},
   "outputs": [
    {
     "name": "stdout",
     "output_type": "stream",
     "text": [
      "2265\n",
      "[['アフターシェーブローション', 'after|shave|lotion', 'AE1_F_T_ER0|SH_EY1_V|L_OW1_SH_AH0_N'], ['アフロキューバンリズム', 'afro|cuban|rhythm', 'AE1_F_R_OW0|K_Y_UW1_B_AH0_N|R_IH1_DH_AH0_M'], ['アンツーカ', 'en|tout|cas', 'EH1_N|T_AW1_T|K_AE1_S'], ['アンツーカー', 'en|tout|cas', 'EH1_N|T_AW1_T|K_AE1_S'], ['イヤラウンドファッション', 'year|round|fashion', 'Y_IH1_R|R_AW1_N_D|F_AE1_SH_AH0_N'], ['ウォッシュアンドウエア', 'wash|and|wear', 'W_AA1_SH|AH0_N_D|W_EH1_R'], ['ウォッシュアンドウェア', 'wash|and|wear', 'W_AA1_SH|AH0_N_D|W_EH1_R'], ['ウオッシュアンドウエア', 'wash|and|wear', 'W_AA1_SH|AH0_N_D|W_EH1_R'], ['オートキャンプ', 'motor|home|camping', 'M_OW1_T_ER0|HH_OW1_M|K_AE1_M_P_IH0_NG'], ['オートチューニングデッキ', 'automatic|tuning|deck', 'AO2_T_AH0_M_AE1_T_IH0_K|T_UW1_N_IH0_NG|D_EH1_K']]\n"
     ]
    }
   ],
   "source": [
    "#### Now, organize the word list to united form\n",
    "#### For words with Enlish phrase gloss(multiple words), use a \"|\" symbol to seperate the words and pronunciation\n",
    "\n",
    "ersan=sann+err\n",
    "print(len(ersan))\n",
    "\n",
    "final_list1=[]\n",
    "for i in ersan:\n",
    "    ii=[]\n",
    "    ii.append(i[0])\n",
    "    ls=\"|\".join(i[2])\n",
    "    pr=\"|\".join(i[3])\n",
    "    ii.append(ls)\n",
    "    ii.append(pr)\n",
    "    final_list1.append(ii)\n",
    "print(len(final_list1))\n",
    "print(final_list1[:10])"
   ]
  },
  {
   "cell_type": "code",
   "execution_count": 125,
   "id": "prescribed-singer",
   "metadata": {},
   "outputs": [
    {
     "name": "stdout",
     "output_type": "stream",
     "text": [
      "168\n",
      "[['アイメイト', 'eye|mate', 'AY1|M_EY1_T'], ['アイメート', 'eye|mate', 'AY1|M_EY1_T'], ['アクサングラーブ', 'accent|grave', 'AH0_K_S_EH1_N_T|G_R_EY1_V'], ['アジト', 'agitating|point', 'AE1_JH_AH0_T_EY2_T_IH0_NG|P_OY1_N_T'], ['アジビラ', 'agitation|bill', 'AE2_JH_AH0_T_EY1_SH_AH0_N|B_IH1_L'], ['アンダースキル', 'under|skill', 'AH1_N_D_ER0|S_K_IH1_L'], ['インターハイ', 'inter|high', 'IH2_N_T_ER1|HH_AY1'], ['インハイ', 'in|high', 'IH0_N|HH_AY1'], ['オードビ', 'eau|de|vie', 'OW1|D_IY1|V_AY1'], ['オーバースキル', 'over|skill', 'OW1_V_ER0|S_K_IH1_L']]\n"
     ]
    }
   ],
   "source": [
    "final_list2=[]\n",
    "for i in overlapp:\n",
    "    ii=[]\n",
    "    ii.append(i[0])\n",
    "    ls=\"|\".join(i[1])\n",
    "    pr=\"|\".join(i[3])\n",
    "    ii.append(ls)\n",
    "    ii.append(pr)\n",
    "    final_list2.append(ii)\n",
    "print(len(final_list2))\n",
    "print(final_list2[:10])"
   ]
  },
  {
   "cell_type": "code",
   "execution_count": 127,
   "id": "surprised-canyon",
   "metadata": {},
   "outputs": [
    {
     "name": "stdout",
     "output_type": "stream",
     "text": [
      "439\n",
      "[['アーベント', 'abend', 'AE1_B_EH0_N_D'], ['アーレ', 'ar', 'AA1_R'], ['アイス', 'ice', 'AY1_S'], ['アイス', 'eis', 'AY1_Z'], ['アイゼン', 'eisen', 'AY1_S_AH0_N'], ['アウトバーン', 'autobahn', 'AO1_T_OW0_B_AA2_N'], ['アクメ', 'acme', 'AE1_K_M_IY0'], ['アゲンスト', 'against', 'AH0_G_EH1_N_S_T'], ['アゲインスト', 'against', 'AH0_G_EH1_N_S_T'], ['アゲィンスト', 'against', 'AH0_G_EH1_N_S_T']]\n"
     ]
    }
   ],
   "source": [
    "#### For words has signle word in their English gloss, no need to insert the seperator \"|\"\n",
    "\n",
    "\n",
    "final_list3=[]\n",
    "for i in overlap11:\n",
    "    ii=[]\n",
    "    ii.append(i[0])\n",
    "    ii.append(i[1])\n",
    "    ii.append(i[3])\n",
    "    final_list3.append(ii)\n",
    "print(len(final_list3))\n",
    "print(final_list3[:10])"
   ]
  },
  {
   "cell_type": "code",
   "execution_count": 128,
   "id": "advance-halifax",
   "metadata": {},
   "outputs": [
    {
     "name": "stdout",
     "output_type": "stream",
     "text": [
      "13213\n",
      "[['アーカイブ', 'archive', 'AA1_R_K_AY2_V'], ['アーカイヴ', 'archive', 'AA1_R_K_AY2_V'], ['アーガイル', 'argyle', 'AA1_R_G_AY2_L'], ['アーガル', 'argyle', 'AA1_R_G_AY2_L'], ['アーキテクチャ', 'architecture', 'AA1_R_K_AH0_T_EH2_K_CH_ER0'], ['アーキテクチャー', 'architecture', 'AA1_R_K_AH0_T_EH2_K_CH_ER0'], ['アーキテクチュア', 'architecture', 'AA1_R_K_AH0_T_EH2_K_CH_ER0'], ['アキテクチャ', 'architecture', 'AA1_R_K_AH0_T_EH2_K_CH_ER0'], ['アーギュメント', 'argument', 'AA1_R_G_Y_AH0_M_AH0_N_T'], ['アーク', 'arc', 'AA1_R_K']]\n"
     ]
    }
   ],
   "source": [
    "final_list4=[]\n",
    "for i in onee:\n",
    "    ii=[]\n",
    "    ii.append(i[0])\n",
    "    ii.append(i[2])\n",
    "    ii.append(i[3])\n",
    "    final_list4.append(ii)\n",
    "print(len(final_list4))\n",
    "print(final_list4[:10])"
   ]
  },
  {
   "cell_type": "code",
   "execution_count": 129,
   "id": "closed-quest",
   "metadata": {},
   "outputs": [
    {
     "name": "stdout",
     "output_type": "stream",
     "text": [
      "16085\n"
     ]
    }
   ],
   "source": [
    "finals=final_list1+final_list2+final_list3+final_list4\n",
    "print(len(finals))"
   ]
  },
  {
   "cell_type": "code",
   "execution_count": 139,
   "id": "acceptable-incident",
   "metadata": {},
   "outputs": [
    {
     "name": "stdout",
     "output_type": "stream",
     "text": [
      "ok\n"
     ]
    }
   ],
   "source": [
    "### save the final data to csv file \n",
    "import csv\n",
    "with open(\"kata_cmu.csv\", \"w\") as wf:\n",
    "    csvwriter = csv.writer(wf, delimiter='\\t')\n",
    "    csvwriter.writerows(finals)\n",
    "print(\"ok\")"
   ]
  },
  {
   "cell_type": "code",
   "execution_count": 140,
   "id": "rocky-stuff",
   "metadata": {},
   "outputs": [
    {
     "name": "stdout",
     "output_type": "stream",
     "text": [
      "ok\n"
     ]
    }
   ],
   "source": [
    "# with open(\"notfound_kata.csv\", \"w\") as wf:\n",
    "#     csvwriter = csv.writer(wf, delimiter='\\t')\n",
    "#     csvwriter.writerows(notfounds)\n",
    "# print(\"ok\")"
   ]
  },
  {
   "cell_type": "code",
   "execution_count": null,
   "id": "rational-decrease",
   "metadata": {},
   "outputs": [],
   "source": []
  }
 ],
 "metadata": {
  "kernelspec": {
   "display_name": "Python 3",
   "language": "python",
   "name": "python3"
  },
  "language_info": {
   "codemirror_mode": {
    "name": "ipython",
    "version": 3
   },
   "file_extension": ".py",
   "mimetype": "text/x-python",
   "name": "python",
   "nbconvert_exporter": "python",
   "pygments_lexer": "ipython3",
   "version": "3.8.5"
  }
 },
 "nbformat": 4,
 "nbformat_minor": 5
}
