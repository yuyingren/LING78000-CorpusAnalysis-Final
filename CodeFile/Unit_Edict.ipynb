{
 "cells": [
  {
   "cell_type": "code",
   "execution_count": 1,
   "id": "better-renewal",
   "metadata": {},
   "outputs": [],
   "source": [
    "apl1=[]\n",
    "with open(\"appends.csv\", \"r\", encoding=\"utf-8\") as ap1:\n",
    "    for l in ap1:\n",
    "        ll= l.rstrip().split(\",\")\n",
    "        apl1.append(ll)\n",
    "        "
   ]
  },
  {
   "cell_type": "code",
   "execution_count": 2,
   "id": "spoken-holmes",
   "metadata": {},
   "outputs": [
    {
     "name": "stdout",
     "output_type": "stream",
     "text": [
      "9025\n"
     ]
    }
   ],
   "source": [
    "print(len(apl1))"
   ]
  },
  {
   "cell_type": "code",
   "execution_count": 3,
   "id": "tribal-commercial",
   "metadata": {},
   "outputs": [
    {
     "name": "stdout",
     "output_type": "stream",
     "text": [
      "[['\\ufeffアーカイバルファイル', 'archival|file', 'AA0_R_K_AY1_V_AH0_L|F_AY1_L'], ['アーカイバルメモリ', 'archival|memory', 'AA0_R_K_AY1_V_AH0_L|M_EH1_M_ER0_IY0'], ['アーカイブサーバ', 'archive|server', 'AA1_R_K_AY2_V|S_ER1_V_ER0'], ['アーカイブサーバー', 'archive|server', 'AA1_R_K_AY2_V|S_ER1_V_ER0'], ['アーカイブデータセット', 'archive|data|set', 'AA1_R_K_AY2_V|D_EY1_T_AH0|S_EH1_T'], ['アーカイブビット', 'archive|bit', 'AA1_R_K_AY2_V|B_IH1_T'], ['アーカイブファイル', 'archive|file', 'AA1_R_K_AY2_V|F_AY1_L'], ['アーカイブライブラリ', 'archive|library', 'AA1_R_K_AY2_V|L_AY1_B_R_EH0_R_IY2'], ['アーガイルチェック', 'argyle|check', 'AA1_R_G_AY2_L|CH_EH1_K'], ['アーガルチェック', 'argyle|check', 'AA1_R_G_AY2_L|CH_EH1_K']]\n"
     ]
    }
   ],
   "source": [
    "print(apl1[:10])"
   ]
  },
  {
   "cell_type": "code",
   "execution_count": 21,
   "id": "daily-statistics",
   "metadata": {},
   "outputs": [
    {
     "name": "stdout",
     "output_type": "stream",
     "text": [
      "9025\n"
     ]
    }
   ],
   "source": [
    "apll=[['アーカイバルファイル', 'archival|file', 'AA0_R_K_AY1_V_AH0_L|F_AY1_L']]\n",
    "for i in apl1[1:]:\n",
    "    apll.append(i)\n",
    "print(len(apll))\n"
   ]
  },
  {
   "cell_type": "code",
   "execution_count": 6,
   "id": "coated-history",
   "metadata": {},
   "outputs": [
    {
     "name": "stdout",
     "output_type": "stream",
     "text": [
      "9025\n",
      "['アーカイバルファイル', 'アーカイバルメモリ', 'アーカイブサーバ', 'アーカイブサーバー', 'アーカイブデータセット', 'アーカイブビット', 'アーカイブファイル', 'アーカイブライブラリ', 'アーガイルチェック', 'アーガルチェック']\n"
     ]
    }
   ],
   "source": [
    "apl_k=['アーカイバルファイル']\n",
    "for i in apl1[1:]:\n",
    "    apl_k.append(i[0])\n",
    "print(len(apl_k))\n",
    "print(apl_k[:10])"
   ]
  },
  {
   "cell_type": "code",
   "execution_count": 7,
   "id": "brazilian-vulnerability",
   "metadata": {},
   "outputs": [
    {
     "name": "stdout",
     "output_type": "stream",
     "text": [
      "9025\n",
      "[['archival|file', 'AA0_R_K_AY1_V_AH0_L|F_AY1_L'], ['archival|memory', 'AA0_R_K_AY1_V_AH0_L|M_EH1_M_ER0_IY0'], ['archive|server', 'AA1_R_K_AY2_V|S_ER1_V_ER0'], ['archive|server', 'AA1_R_K_AY2_V|S_ER1_V_ER0'], ['archive|data|set', 'AA1_R_K_AY2_V|D_EY1_T_AH0|S_EH1_T'], ['archive|bit', 'AA1_R_K_AY2_V|B_IH1_T'], ['archive|file', 'AA1_R_K_AY2_V|F_AY1_L'], ['archive|library', 'AA1_R_K_AY2_V|L_AY1_B_R_EH0_R_IY2'], ['argyle|check', 'AA1_R_G_AY2_L|CH_EH1_K'], ['argyle|check', 'AA1_R_G_AY2_L|CH_EH1_K']]\n"
     ]
    }
   ],
   "source": [
    "apl_v=[]\n",
    "for i in apl1:\n",
    "    ii=[]\n",
    "    ii.append(i[1])\n",
    "    ii.append(i[2])\n",
    "    apl_v.append(ii)\n",
    "print(len(apl_v))\n",
    "print(apl_v[:10])"
   ]
  },
  {
   "cell_type": "code",
   "execution_count": 8,
   "id": "informational-community",
   "metadata": {},
   "outputs": [
    {
     "name": "stdout",
     "output_type": "stream",
     "text": [
      "9025\n"
     ]
    }
   ],
   "source": [
    "apl_dict=dict(list(zip(apl_k,apl_v)))\n",
    "print(len(apl_dict))"
   ]
  },
  {
   "cell_type": "code",
   "execution_count": 9,
   "id": "brazilian-banner",
   "metadata": {},
   "outputs": [
    {
     "name": "stdout",
     "output_type": "stream",
     "text": [
      "2675\n",
      "[['\\ufeffアークランプ', 'arc|lump', 'AA1_R_K|L_AE1_M_P'], ['アースカラー', 'earth|color', 'ER1_TH|K_AH1_L_ER0'], ['アースバンド', 'earth|band', 'ER1_TH|B_AE1_N_D'], ['アースライン', 'earth|line', 'ER1_TH|L_AY1_N'], ['アーティスティックスイミング', 'artistic|swimming', 'AA0_R_T_IH1_S_T_IH0_K|S_W_IH1_M_IH0_NG'], ['アートシアター', 'art|theater', 'AA1_R_T|TH_IY1_EY0_T_ER0'], ['アームレスリング', 'arm|wrestling', 'AA1_R_M|R_EH1_S_L_IH0_NG'], ['アームロック', 'arm|lock', 'AA1_R_M|L_AA1_K'], ['アールブリュット', 'art|brut', 'AA1_R_T|B_R_UW1_T'], ['アールブリュト', 'art|brut', 'AA1_R_T|B_R_UW1_T']]\n"
     ]
    }
   ],
   "source": [
    "apl2=[]\n",
    "with open(\"appends2_.csv\", \"r\", encoding=\"utf-8\") as ap2:\n",
    "    for l in ap2:\n",
    "        ll= l.rstrip().split(\",\")\n",
    "        apl2.append(ll)\n",
    "print(len(apl2))\n",
    "print(apl2[:10])"
   ]
  },
  {
   "cell_type": "code",
   "execution_count": 20,
   "id": "alive-history",
   "metadata": {},
   "outputs": [
    {
     "name": "stdout",
     "output_type": "stream",
     "text": [
      "2673\n",
      "[['アークランプ', 'arc|lump', 'AA1_R_K|L_AE1_M_P'], ['アースカラー', 'earth|color', 'ER1_TH|K_AH1_L_ER0'], ['アースバンド', 'earth|band', 'ER1_TH|B_AE1_N_D'], ['アースライン', 'earth|line', 'ER1_TH|L_AY1_N'], ['アーティスティックスイミング', 'artistic|swimming', 'AA0_R_T_IH1_S_T_IH0_K|S_W_IH1_M_IH0_NG'], ['アートシアター', 'art|theater', 'AA1_R_T|TH_IY1_EY0_T_ER0'], ['アームレスリング', 'arm|wrestling', 'AA1_R_M|R_EH1_S_L_IH0_NG'], ['アームロック', 'arm|lock', 'AA1_R_M|L_AA1_K'], ['アールブリュット', 'art|brut', 'AA1_R_T|B_R_UW1_T'], ['アールブリュト', 'art|brut', 'AA1_R_T|B_R_UW1_T']]\n"
     ]
    }
   ],
   "source": [
    "overlp=['オーレ', 'カラーチップ']\n",
    "apl2_k=[['アークランプ', 'arc|lump', 'AA1_R_K|L_AE1_M_P']]\n",
    "for i in apl2[1:]:\n",
    "    if i[0] not in overlp:\n",
    "        apl2_k.append(i)\n",
    "print(len(apl2_k))\n",
    "print(apl2_k[:10])"
   ]
  },
  {
   "cell_type": "code",
   "execution_count": 22,
   "id": "incorporated-switch",
   "metadata": {},
   "outputs": [
    {
     "name": "stdout",
     "output_type": "stream",
     "text": [
      "11698\n"
     ]
    }
   ],
   "source": [
    "aplll=apll+apl2_k\n",
    "print(len(aplll))"
   ]
  },
  {
   "cell_type": "code",
   "execution_count": 24,
   "id": "behind-panel",
   "metadata": {},
   "outputs": [
    {
     "name": "stdout",
     "output_type": "stream",
     "text": [
      "ok\n"
     ]
    }
   ],
   "source": [
    "import csv\n",
    "with open(\"Edict_kata.csv\", \"w\") as kf:\n",
    "    csvwriter = csv.writer(kf, delimiter='\\t')\n",
    "    csvwriter.writerows(aplll)\n",
    "print(\"ok\")"
   ]
  },
  {
   "cell_type": "code",
   "execution_count": null,
   "id": "confidential-homework",
   "metadata": {},
   "outputs": [],
   "source": []
  }
 ],
 "metadata": {
  "kernelspec": {
   "display_name": "Python 3",
   "language": "python",
   "name": "python3"
  },
  "language_info": {
   "codemirror_mode": {
    "name": "ipython",
    "version": 3
   },
   "file_extension": ".py",
   "mimetype": "text/x-python",
   "name": "python",
   "nbconvert_exporter": "python",
   "pygments_lexer": "ipython3",
   "version": "3.8.5"
  }
 },
 "nbformat": 4,
 "nbformat_minor": 5
}
