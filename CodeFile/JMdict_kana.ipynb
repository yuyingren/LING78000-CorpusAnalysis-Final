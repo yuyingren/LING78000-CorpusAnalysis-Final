{
 "cells": [
  {
   "cell_type": "code",
   "execution_count": 1,
   "id": "nutritional-great",
   "metadata": {},
   "outputs": [],
   "source": [
    "test_l = [] # vocab list of JM dictionary\n",
    "### open the JM dictionary file and extra every entry\n",
    "with open(\"JMdict_data.txt\", \"r\", encoding=\"utf-8\") as or_data:\n",
    "    sub = []\n",
    "    for l in or_data:\n",
    "        ll = l.rstrip()\n",
    "        sub.append(ll)\n",
    "        \n",
    "        if ll == '</entry>':\n",
    "            test_l.append(sub)\n",
    "            sub = []\n",
    "        \n"
   ]
  },
  {
   "cell_type": "code",
   "execution_count": 2,
   "id": "fitting-calculation",
   "metadata": {
    "scrolled": false
   },
   "outputs": [
    {
     "name": "stdout",
     "output_type": "stream",
     "text": [
      "192348\n"
     ]
    }
   ],
   "source": [
    "print(len(test_l))"
   ]
  },
  {
   "cell_type": "code",
   "execution_count": 4,
   "id": "demanding-archive",
   "metadata": {},
   "outputs": [],
   "source": [
    "k_char = [] # list of all katakana characters\n",
    "\n",
    "### import a file that contains all katakana characters including the sokuon --- half size characters.\n",
    "with open(\"character.txt\", \"r\", encoding=\"utf-8\") as kc:\n",
    "    for i in kc:\n",
    "        ii=i.rstrip()\n",
    "        k_char.append(ii)"
   ]
  },
  {
   "cell_type": "code",
   "execution_count": 5,
   "id": "bizarre-nursing",
   "metadata": {},
   "outputs": [
    {
     "name": "stdout",
     "output_type": "stream",
     "text": [
      "['ヲ', 'ー', 'ア', 'イ', 'ウ', 'ヴ', 'エ', 'オ', 'カ', 'キ', 'ク', 'ケ', 'コ', 'ガ', 'ギ', 'グ', 'ゲ', 'ゴ', 'サ', 'シ', 'ス', 'セ', 'ソ', 'ザ', 'ジ', 'ズ', 'ゼ', 'ゾ', 'タ', 'チ', 'ツ', 'テ', 'ト', 'ダ', 'ジ', 'ズ', 'デ', 'ド', 'ナ', 'ニ', 'ヌ', 'ネ', 'ノ', 'ハ', 'ヒ', 'フ', 'へ', 'ホ', 'バ', 'ビ', 'ブ', 'ベ', 'ボ', 'パ', 'ピ', 'プ', 'ぺ', 'ポ', 'マ', 'ミ', 'ム', 'メ', 'モ', 'ヤ', 'ユ', 'ヨ', 'ラ', 'リ', 'ル', 'レ', 'ロ', 'ワ', 'ン', 'ャ', 'ュ', 'ョ', 'ァ', 'ィ', 'ゥ', 'ェ', 'ォ', 'ッ']\n"
     ]
    }
   ],
   "source": [
    "print(k_char)"
   ]
  },
  {
   "cell_type": "code",
   "execution_count": 6,
   "id": "fiscal-chapter",
   "metadata": {},
   "outputs": [],
   "source": [
    "kata = [] #list of katakana words\n",
    "\n",
    "### extract the words written in katakana from the JM vocab list.\n",
    "for i in test_l:\n",
    "    if \"<k_ele>\" not in set(i):\n",
    "        kata.append(i)\n",
    "    \n",
    "        "
   ]
  },
  {
   "cell_type": "code",
   "execution_count": 7,
   "id": "wireless-balance",
   "metadata": {},
   "outputs": [],
   "source": [
    "# print(kata)"
   ]
  },
  {
   "cell_type": "code",
   "execution_count": 8,
   "id": "incredible-faith",
   "metadata": {},
   "outputs": [
    {
     "name": "stdout",
     "output_type": "stream",
     "text": [
      "36955\n"
     ]
    }
   ],
   "source": [
    "print(len(kata))"
   ]
  },
  {
   "cell_type": "code",
   "execution_count": 15,
   "id": "social-spending",
   "metadata": {},
   "outputs": [],
   "source": [
    "\n",
    "import re\n",
    "dict0=[]# list of katakana words but cleaned all noise.\n",
    "\n",
    "### for each katakana word: extracted the word itself; \n",
    "###                         the original language it borrowed from;\n",
    "###                         the english gloss of the word;\n",
    "###                         the paired exmaple sentences in Japanese and Enlish;\n",
    "\n",
    "for i in kata:\n",
    "    dict1=[]\n",
    "    word = []\n",
    "    gloss = []\n",
    "    s_lan = []\n",
    "    source = []\n",
    "    exmp = []\n",
    "    for j in i:\n",
    "        if j.startswith(\"<reb>\"):\n",
    "            sub1=re.findall(\"<reb>(.*?)</reb>\", j)\n",
    "            word.append(sub1[0])\n",
    "            \n",
    "        if j.startswith(\"<lsource\"):\n",
    "            sub02=re.findall(r'\\\"(.*?)\\\"', j)\n",
    "            sub2=re.findall(r\"\\>(.*?)\\<\", j)\n",
    "            if sub02 != []:\n",
    "                s_lan.append(sub02[0])\n",
    "            if sub2 != []:\n",
    "                source.append(sub2[0])\n",
    "            \n",
    "        if j.startswith(\"<gloss>\"):\n",
    "            sub3=re.findall(\"<gloss>(.*?)</gloss>\", j)\n",
    "            gloss.append(sub3[0])\n",
    "        \n",
    "        if j.startswith('<ex_sent xml:lang=\"jpn\">'):\n",
    "            sub4=re.findall('<ex_sent xml:lang=\"jpn\">(.*?)</ex_sent>', j)\n",
    "            exmp.append(sub4[0])\n",
    "            \n",
    "        if j.startswith('<ex_sent xml:lang=\"eng\">'):\n",
    "            sub5=re.findall('<ex_sent xml:lang=\"eng\">(.*?)</ex_sent>', j)\n",
    "            exmp.append(sub5[0])\n",
    "    dict1.append(word)\n",
    "    dict1.append(s_lan)\n",
    "    dict1.append(source)\n",
    "    dict1.append(gloss)\n",
    "    dict1.append(exmp)\n",
    "    \n",
    "    dict0.append(dict1)"
   ]
  },
  {
   "cell_type": "code",
   "execution_count": 17,
   "id": "duplicate-person",
   "metadata": {},
   "outputs": [],
   "source": [
    "dict_fin = [] # katakana word list that cleaned the empty entries\n",
    "for i in dict0:\n",
    "    if i[3] != []:\n",
    "        dict_fin.append(i)"
   ]
  },
  {
   "cell_type": "code",
   "execution_count": 18,
   "id": "abandoned-christian",
   "metadata": {},
   "outputs": [
    {
     "name": "stdout",
     "output_type": "stream",
     "text": [
      "36940\n"
     ]
    }
   ],
   "source": [
    "print(len(dict_fin))"
   ]
  },
  {
   "cell_type": "code",
   "execution_count": 3,
   "id": "adolescent-process",
   "metadata": {},
   "outputs": [],
   "source": [
    "# print(dict_fin[:10])"
   ]
  },
  {
   "cell_type": "code",
   "execution_count": 20,
   "id": "actual-rally",
   "metadata": {},
   "outputs": [],
   "source": [
    "### making a pure katakana word list --- words that only contain katakana\n",
    "\n",
    "new=[] \n",
    "for entry in dict_fin:\n",
    "    n_entry=[]\n",
    "    iii = []\n",
    "    for i in entry[0]:\n",
    "        ched_list = [characters in k_char for characters in i]\n",
    "        if all(ched_list) == False:\n",
    "            iii.append(\"FALSE\")\n",
    "        if  all(ched_list) == True:\n",
    "            iii.append(i)\n",
    "    n_entry.append(iii)\n",
    "    n_entry.append(entry[1])\n",
    "    n_entry.append(entry[2])\n",
    "    n_entry.append(entry[3])\n",
    "    n_entry.append(entry[4])\n",
    "    new.append(n_entry)\n",
    "    \n",
    "kata_dict = []# katakana word list after a further cleaning step ---- removed words that contain both katakana and hiragana\n",
    "for en in new:\n",
    "    if \"FALSE\" not in en[0]:\n",
    "        kata_dict.append(en)\n",
    "\n"
   ]
  },
  {
   "cell_type": "code",
   "execution_count": 23,
   "id": "knowing-radiation",
   "metadata": {},
   "outputs": [
    {
     "name": "stdout",
     "output_type": "stream",
     "text": [
      "20344\n"
     ]
    }
   ],
   "source": [
    "print(len(kata_dict))\n"
   ]
  },
  {
   "cell_type": "code",
   "execution_count": 2,
   "id": "brazilian-translation",
   "metadata": {},
   "outputs": [],
   "source": [
    "# print(kata_dict[:20])\n"
   ]
  },
  {
   "cell_type": "code",
   "execution_count": 50,
   "id": "variable-cisco",
   "metadata": {},
   "outputs": [],
   "source": [
    "kata_dict1=[] # anothe duplicate of katakana word list --- tagged all irregular formed words in order to remove them\n",
    "\n",
    "### for each word in the katakana word list, tag entries that miss the katakan aword or their english gloss with \"NA\"\n",
    "for i in kata_dict:\n",
    "    temp = []\n",
    "    temp.append(i[0])\n",
    "    if i[1] == []:\n",
    "        temp.append([\"NA\"])\n",
    "    if i[1] !=[] and i[1][0] != \"y\":\n",
    "        temp.append(i[1])\n",
    "    if i[1] !=[] and i[1][0] == \"y\":\n",
    "        temp.append([\"wasei\"])\n",
    "    if i[2] == []:\n",
    "        temp.append([\"NA\"])\n",
    "    if i[2] !=[]:\n",
    "        temp.append(i[2])\n",
    "    temp.append(i[3])\n",
    "    temp.append(i[4])\n",
    "    kata_dict1.append(temp)\n",
    "        "
   ]
  },
  {
   "cell_type": "code",
   "execution_count": 4,
   "id": "imported-place",
   "metadata": {
    "scrolled": false
   },
   "outputs": [
    {
     "ename": "NameError",
     "evalue": "name 'kata_dict1' is not defined",
     "output_type": "error",
     "traceback": [
      "\u001b[0;31m---------------------------------------------------------------------------\u001b[0m",
      "\u001b[0;31mNameError\u001b[0m                                 Traceback (most recent call last)",
      "\u001b[0;32m<ipython-input-4-88da900201b5>\u001b[0m in \u001b[0;36m<module>\u001b[0;34m\u001b[0m\n\u001b[0;32m----> 1\u001b[0;31m \u001b[0mprint\u001b[0m\u001b[0;34m(\u001b[0m\u001b[0mlen\u001b[0m\u001b[0;34m(\u001b[0m\u001b[0mkata_dict1\u001b[0m\u001b[0;34m)\u001b[0m\u001b[0;34m)\u001b[0m\u001b[0;34m\u001b[0m\u001b[0;34m\u001b[0m\u001b[0m\n\u001b[0m\u001b[1;32m      2\u001b[0m \u001b[0;31m# print(kata_dict1[:20])\u001b[0m\u001b[0;34m\u001b[0m\u001b[0;34m\u001b[0m\u001b[0;34m\u001b[0m\u001b[0m\n",
      "\u001b[0;31mNameError\u001b[0m: name 'kata_dict1' is not defined"
     ]
    }
   ],
   "source": [
    "print(len(kata_dict1))\n",
    "# print(kata_dict1[:20])\n"
   ]
  },
  {
   "cell_type": "code",
   "execution_count": 62,
   "id": "supposed-campbell",
   "metadata": {},
   "outputs": [],
   "source": [
    "ka_dict = [] # katakana word list that removed all punctuations\n",
    "\n",
    "### this is the last step of making the katakana word list from JM dictionary\n",
    "### joint english glosses if a word has more than one gloss.\n",
    "### removed irregular punctuations in the example sentences and joint the japanese sentence with the english sentence\n",
    "for i in kata_dict1:\n",
    "    lss = \"|\".join(i[1])\n",
    "    g = re.sub(r'\\((.*?)\\)', '', i[3][0])\n",
    "    e = \"|\".join(i[4])\n",
    "    for j in i[0]:\n",
    "        ii = []\n",
    "        ii.append(j)\n",
    "        ii.append(lss)\n",
    "        ii.append(i[2])\n",
    "        ii.append(g.strip())\n",
    "        ii.append(e)\n",
    "        ka_dict.append(ii)"
   ]
  },
  {
   "cell_type": "code",
   "execution_count": 5,
   "id": "revolutionary-membership",
   "metadata": {},
   "outputs": [
    {
     "ename": "NameError",
     "evalue": "name 'ka_dict' is not defined",
     "output_type": "error",
     "traceback": [
      "\u001b[0;31m---------------------------------------------------------------------------\u001b[0m",
      "\u001b[0;31mNameError\u001b[0m                                 Traceback (most recent call last)",
      "\u001b[0;32m<ipython-input-5-83db30fa5913>\u001b[0m in \u001b[0;36m<module>\u001b[0;34m\u001b[0m\n\u001b[0;32m----> 1\u001b[0;31m \u001b[0mprint\u001b[0m\u001b[0;34m(\u001b[0m\u001b[0mlen\u001b[0m\u001b[0;34m(\u001b[0m\u001b[0mka_dict\u001b[0m\u001b[0;34m)\u001b[0m\u001b[0;34m)\u001b[0m\u001b[0;34m\u001b[0m\u001b[0;34m\u001b[0m\u001b[0m\n\u001b[0m\u001b[1;32m      2\u001b[0m \u001b[0;31m# print(ka_dict[50:100])\u001b[0m\u001b[0;34m\u001b[0m\u001b[0;34m\u001b[0m\u001b[0;34m\u001b[0m\u001b[0m\n",
      "\u001b[0;31mNameError\u001b[0m: name 'ka_dict' is not defined"
     ]
    }
   ],
   "source": [
    "print(len(ka_dict))\n",
    "# print(ka_dict[50:100])"
   ]
  },
  {
   "cell_type": "code",
   "execution_count": 64,
   "id": "naval-superior",
   "metadata": {},
   "outputs": [],
   "source": [
    "final = []#the final katakana word list\n",
    "\n",
    "### making the list well formed before save into a file.\n",
    "for i in ka_dict:\n",
    "    for j in i[2]:\n",
    "        jj =[]\n",
    "        jj.append(i[0])\n",
    "        jj.append(i[1])\n",
    "        jj.append(j)\n",
    "        jj.append(i[3])\n",
    "        jj.append(i[4])\n",
    "        final.append(jj)\n",
    "        "
   ]
  },
  {
   "cell_type": "code",
   "execution_count": 66,
   "id": "assigned-violence",
   "metadata": {},
   "outputs": [
    {
     "name": "stdout",
     "output_type": "stream",
     "text": [
      "24505\n",
      "[['キイキイ', 'NA', 'NA', 'creak', \"私が我慢できないことは、黒板でキーキーとチョークが音を立てることだ。|What I can't bear is the sound of chalk squeaking on a chalkboard.\"], ['キーキー', 'NA', 'NA', 'creak', \"私が我慢できないことは、黒板でキーキーとチョークが音を立てることだ。|What I can't bear is the sound of chalk squeaking on a chalkboard.\"], ['キィキィ', 'NA', 'NA', 'creak', \"私が我慢できないことは、黒板でキーキーとチョークが音を立てることだ。|What I can't bear is the sound of chalk squeaking on a chalkboard.\"], ['アーカイバ', 'NA', 'NA', 'archiver', ''], ['アーカイバー', 'NA', 'NA', 'archiver', ''], ['アーカイブ', 'NA', 'NA', 'archive', \"アルクのホームページには英語表現のアーカイブがありますか。|Does ALC's web site include an archive of English expressions?\"], ['アーカイヴ', 'NA', 'NA', 'archive', \"アルクのホームページには英語表現のアーカイブがありますか。|Does ALC's web site include an archive of English expressions?\"], ['アーガイル', 'NA', 'NA', 'argyle', ''], ['アーガル', 'NA', 'NA', 'argyle', ''], ['アーキテクチャ', 'NA', 'NA', 'architecture', \"あの社の新しいコンピューターはアーキテクチャーに問題があって回収騒ぎになっているんだってさ。|There was a problem with the architecture of that company's new computer. They're going through a recall frenzy right now.\"], ['アーキテクチャー', 'NA', 'NA', 'architecture', \"あの社の新しいコンピューターはアーキテクチャーに問題があって回収騒ぎになっているんだってさ。|There was a problem with the architecture of that company's new computer. They're going through a recall frenzy right now.\"], ['アーキテクチュア', 'NA', 'NA', 'architecture', \"あの社の新しいコンピューターはアーキテクチャーに問題があって回収騒ぎになっているんだってさ。|There was a problem with the architecture of that company's new computer. They're going through a recall frenzy right now.\"], ['アキテクチャ', 'NA', 'NA', 'architecture', \"あの社の新しいコンピューターはアーキテクチャーに問題があって回収騒ぎになっているんだってさ。|There was a problem with the architecture of that company's new computer. They're going through a recall frenzy right now.\"], ['アーギュメント', 'NA', 'NA', 'argument', ''], ['アーク', 'NA', 'NA', 'arc', ''], ['アーケード', 'NA', 'NA', 'arcade', 'アーケード天井にたくさんの張りぼてが飾られてた。|The shopping arcade was covered with lots of paper decorations.'], ['アーケイド', 'NA', 'NA', 'arcade', 'アーケード天井にたくさんの張りぼてが飾られてた。|The shopping arcade was covered with lots of paper decorations.'], ['アース', 'NA', 'NA', 'earth', ''], ['アーチ', 'NA', 'NA', 'arch', ''], ['アーチェリー', 'NA', 'NA', 'archery', '']]\n"
     ]
    }
   ],
   "source": [
    "print(len(final))\n",
    "print(final[:20])"
   ]
  },
  {
   "cell_type": "code",
   "execution_count": 67,
   "id": "later-swimming",
   "metadata": {},
   "outputs": [
    {
     "name": "stdout",
     "output_type": "stream",
     "text": [
      "ok\n"
     ]
    }
   ],
   "source": [
    "import csv\n",
    "with open(\"katakana_dict.csv\", \"w\") as wf:\n",
    "    csvwriter = csv.writer(wf, delimiter='\\t')\n",
    "    csvwriter.writerows(final)\n",
    "print(\"ok\")"
   ]
  },
  {
   "cell_type": "code",
   "execution_count": null,
   "id": "divine-roberts",
   "metadata": {},
   "outputs": [],
   "source": []
  }
 ],
 "metadata": {
  "kernelspec": {
   "display_name": "Python 3",
   "language": "python",
   "name": "python3"
  },
  "language_info": {
   "codemirror_mode": {
    "name": "ipython",
    "version": 3
   },
   "file_extension": ".py",
   "mimetype": "text/x-python",
   "name": "python",
   "nbconvert_exporter": "python",
   "pygments_lexer": "ipython3",
   "version": "3.8.5"
  }
 },
 "nbformat": 4,
 "nbformat_minor": 5
}
